{
 "cells": [
  {
   "cell_type": "markdown",
   "metadata": {},
   "source": [
    "# Libraries and Functions"
   ]
  },
  {
   "cell_type": "code",
   "execution_count": 1,
   "metadata": {},
   "outputs": [],
   "source": [
    "import numpy as np\n",
    "import pandas as pd\n",
    "import geopandas as gpd\n",
    "\n",
    "import matplotlib.pyplot as plt\n",
    "import seaborn as sns\n",
    "\n",
    "import datetime "
   ]
  },
  {
   "cell_type": "code",
   "execution_count": 2,
   "metadata": {},
   "outputs": [],
   "source": [
    "sns.set()"
   ]
  },
  {
   "cell_type": "markdown",
   "metadata": {},
   "source": [
    "### Utility Functions"
   ]
  },
  {
   "cell_type": "code",
   "execution_count": 101,
   "metadata": {},
   "outputs": [],
   "source": [
    "def create_df_regioni(days):\n",
    "    '''scrape github , download data return a dataframe'''\n",
    "    \n",
    "    df = pd.DataFrame()\n",
    "    for i in days:\n",
    "        url =  f'https://raw.githubusercontent.com/pcm-dpc/COVID-19/master/dati-regioni/dpc-covid19-ita-regioni-{i}.csv'\n",
    "  #df.append(pd.read_csv(url, encoding= 'Latin'))dpc-covid19-ita-regioni\n",
    "        df = pd.concat([df,pd.read_csv(url, encoding=\"Latin\")])\n",
    "        df.data = pd.to_datetime(df.data , yearfirst=True)\n",
    "        df = df[df['codice_regione'].map(lambda x :len(str(x)) < 3)]\n",
    "    #rename regions\n",
    "        df['denominazione_regione'] = df['denominazione_regione'].mask(df['denominazione_regione']=='P.A. Bolzano', 'Trentino-Alto Adige')\n",
    "        df['denominazione_regione'] = df['denominazione_regione'].mask(df['denominazione_regione']=='P.A. Trento', 'Trentino-Alto Adige')\n",
    "    return df"
   ]
  },
  {
   "cell_type": "code",
   "execution_count": null,
   "metadata": {},
   "outputs": [],
   "source": []
  },
  {
   "cell_type": "code",
   "execution_count": 98,
   "metadata": {},
   "outputs": [],
   "source": [
    "def create_regioni_shape():\n",
    "    'with trento e bolzano'\n",
    "    regioni_url = 'https://gist.githubusercontent.com/datajournalism-it/f1abb68e718b54f6a0fe/raw/23636ff76534439b52b87a67e766b11fa7373aa9/regioni-con-trento-bolzano.geojson'\n",
    "    regioni = gpd.read_file(regioni_url)\n",
    "    regioni.rename(columns={'NOME_REG':'denominazione_regione'},inplace=True)\n",
    "    return regioni"
   ]
  },
  {
   "cell_type": "code",
   "execution_count": 99,
   "metadata": {},
   "outputs": [],
   "source": [
    "regioni_shape = create_regioni_shape()"
   ]
  },
  {
   "cell_type": "code",
   "execution_count": 100,
   "metadata": {},
   "outputs": [
    {
     "data": {
      "text/html": [
       "<div>\n",
       "<style scoped>\n",
       "    .dataframe tbody tr th:only-of-type {\n",
       "        vertical-align: middle;\n",
       "    }\n",
       "\n",
       "    .dataframe tbody tr th {\n",
       "        vertical-align: top;\n",
       "    }\n",
       "\n",
       "    .dataframe thead th {\n",
       "        text-align: right;\n",
       "    }\n",
       "</style>\n",
       "<table border=\"1\" class=\"dataframe\">\n",
       "  <thead>\n",
       "    <tr style=\"text-align: right;\">\n",
       "      <th></th>\n",
       "      <th>Regione</th>\n",
       "      <th>geometry</th>\n",
       "    </tr>\n",
       "  </thead>\n",
       "  <tbody>\n",
       "    <tr>\n",
       "      <th>0</th>\n",
       "      <td>Valle d'Aosta</td>\n",
       "      <td>MULTIPOLYGON (((7.58857 45.97075, 7.58981 45.9...</td>\n",
       "    </tr>\n",
       "    <tr>\n",
       "      <th>1</th>\n",
       "      <td>Bolzano</td>\n",
       "      <td>MULTIPOLYGON (((12.20554 47.08637, 12.20667 47...</td>\n",
       "    </tr>\n",
       "    <tr>\n",
       "      <th>2</th>\n",
       "      <td>Trento</td>\n",
       "      <td>MULTIPOLYGON (((11.82408 46.50408, 11.81545 46...</td>\n",
       "    </tr>\n",
       "    <tr>\n",
       "      <th>3</th>\n",
       "      <td>Marche</td>\n",
       "      <td>MULTIPOLYGON (((13.50004 43.62384, 13.50050 43...</td>\n",
       "    </tr>\n",
       "    <tr>\n",
       "      <th>4</th>\n",
       "      <td>Calabria</td>\n",
       "      <td>MULTIPOLYGON (((15.81585 39.67723, 15.81600 39...</td>\n",
       "    </tr>\n",
       "    <tr>\n",
       "      <th>5</th>\n",
       "      <td>Umbria</td>\n",
       "      <td>MULTIPOLYGON (((12.36164 43.60131, 12.36131 43...</td>\n",
       "    </tr>\n",
       "    <tr>\n",
       "      <th>6</th>\n",
       "      <td>Lazio</td>\n",
       "      <td>MULTIPOLYGON (((12.62241 41.44459, 12.62055 41...</td>\n",
       "    </tr>\n",
       "    <tr>\n",
       "      <th>7</th>\n",
       "      <td>Abruzzo</td>\n",
       "      <td>MULTIPOLYGON (((14.30303 42.41473, 14.31126 42...</td>\n",
       "    </tr>\n",
       "    <tr>\n",
       "      <th>8</th>\n",
       "      <td>Campania</td>\n",
       "      <td>MULTIPOLYGON (((15.03030 41.45539, 15.03244 41...</td>\n",
       "    </tr>\n",
       "    <tr>\n",
       "      <th>9</th>\n",
       "      <td>Basilicata</td>\n",
       "      <td>MULTIPOLYGON (((16.25230 40.83268, 16.25445 40...</td>\n",
       "    </tr>\n",
       "    <tr>\n",
       "      <th>10</th>\n",
       "      <td>Puglia</td>\n",
       "      <td>MULTIPOLYGON (((16.65049 41.19163, 16.65052 41...</td>\n",
       "    </tr>\n",
       "    <tr>\n",
       "      <th>11</th>\n",
       "      <td>Sardegna</td>\n",
       "      <td>MULTIPOLYGON (((9.65140 39.54918, 9.64421 39.5...</td>\n",
       "    </tr>\n",
       "    <tr>\n",
       "      <th>12</th>\n",
       "      <td>Sicilia</td>\n",
       "      <td>MULTIPOLYGON (((14.96671 38.15415, 14.96666 38...</td>\n",
       "    </tr>\n",
       "    <tr>\n",
       "      <th>13</th>\n",
       "      <td>Molise</td>\n",
       "      <td>MULTIPOLYGON (((14.84675 42.03937, 14.85916 42...</td>\n",
       "    </tr>\n",
       "    <tr>\n",
       "      <th>14</th>\n",
       "      <td>Toscana</td>\n",
       "      <td>MULTIPOLYGON (((11.17288 44.10720, 11.17341 44...</td>\n",
       "    </tr>\n",
       "    <tr>\n",
       "      <th>15</th>\n",
       "      <td>Emilia Romagna</td>\n",
       "      <td>MULTIPOLYGON (((11.08928 44.95888, 11.09559 44...</td>\n",
       "    </tr>\n",
       "    <tr>\n",
       "      <th>16</th>\n",
       "      <td>Veneto</td>\n",
       "      <td>MULTIPOLYGON (((12.50591 46.67839, 12.50603 46...</td>\n",
       "    </tr>\n",
       "    <tr>\n",
       "      <th>17</th>\n",
       "      <td>Lombardia</td>\n",
       "      <td>MULTIPOLYGON (((10.24930 46.61838, 10.25429 46...</td>\n",
       "    </tr>\n",
       "    <tr>\n",
       "      <th>18</th>\n",
       "      <td>Piemonte</td>\n",
       "      <td>MULTIPOLYGON (((8.59380 45.82825, 8.59378 45.8...</td>\n",
       "    </tr>\n",
       "    <tr>\n",
       "      <th>19</th>\n",
       "      <td>Liguria</td>\n",
       "      <td>MULTIPOLYGON (((7.76073 43.80751, 7.75890 43.8...</td>\n",
       "    </tr>\n",
       "    <tr>\n",
       "      <th>20</th>\n",
       "      <td>Friuli Venezia Giulia</td>\n",
       "      <td>MULTIPOLYGON (((13.69160 45.72540, 13.69158 45...</td>\n",
       "    </tr>\n",
       "  </tbody>\n",
       "</table>\n",
       "</div>"
      ],
      "text/plain": [
       "                  Regione                                           geometry\n",
       "0           Valle d'Aosta  MULTIPOLYGON (((7.58857 45.97075, 7.58981 45.9...\n",
       "1                 Bolzano  MULTIPOLYGON (((12.20554 47.08637, 12.20667 47...\n",
       "2                  Trento  MULTIPOLYGON (((11.82408 46.50408, 11.81545 46...\n",
       "3                  Marche  MULTIPOLYGON (((13.50004 43.62384, 13.50050 43...\n",
       "4                Calabria  MULTIPOLYGON (((15.81585 39.67723, 15.81600 39...\n",
       "5                  Umbria  MULTIPOLYGON (((12.36164 43.60131, 12.36131 43...\n",
       "6                   Lazio  MULTIPOLYGON (((12.62241 41.44459, 12.62055 41...\n",
       "7                 Abruzzo  MULTIPOLYGON (((14.30303 42.41473, 14.31126 42...\n",
       "8                Campania  MULTIPOLYGON (((15.03030 41.45539, 15.03244 41...\n",
       "9              Basilicata  MULTIPOLYGON (((16.25230 40.83268, 16.25445 40...\n",
       "10                 Puglia  MULTIPOLYGON (((16.65049 41.19163, 16.65052 41...\n",
       "11               Sardegna  MULTIPOLYGON (((9.65140 39.54918, 9.64421 39.5...\n",
       "12                Sicilia  MULTIPOLYGON (((14.96671 38.15415, 14.96666 38...\n",
       "13                 Molise  MULTIPOLYGON (((14.84675 42.03937, 14.85916 42...\n",
       "14                Toscana  MULTIPOLYGON (((11.17288 44.10720, 11.17341 44...\n",
       "15         Emilia Romagna  MULTIPOLYGON (((11.08928 44.95888, 11.09559 44...\n",
       "16                 Veneto  MULTIPOLYGON (((12.50591 46.67839, 12.50603 46...\n",
       "17              Lombardia  MULTIPOLYGON (((10.24930 46.61838, 10.25429 46...\n",
       "18               Piemonte  MULTIPOLYGON (((8.59380 45.82825, 8.59378 45.8...\n",
       "19                Liguria  MULTIPOLYGON (((7.76073 43.80751, 7.75890 43.8...\n",
       "20  Friuli Venezia Giulia  MULTIPOLYGON (((13.69160 45.72540, 13.69158 45..."
      ]
     },
     "execution_count": 100,
     "metadata": {},
     "output_type": "execute_result"
    }
   ],
   "source": [
    "regioni_shape"
   ]
  },
  {
   "cell_type": "code",
   "execution_count": null,
   "metadata": {},
   "outputs": [],
   "source": [
    "def create_regioni_shape():\n",
    "    'with trentino altoadige'\n",
    "    regioni_url = 'https://gist.github.com/datajournalism-it/48e29e7c87dca7eb1d29/raw/2636aeef92ba0770a073424853f37690064eb0ea/regioni.geojson'\n",
    "    regioni = gpd.read_file(regioni_url)\n",
    "    regioni.rename(columns={'NOME_REG':'denominazione_regione'},inplace=True)\n",
    "    return regioni"
   ]
  },
  {
   "cell_type": "code",
   "execution_count": null,
   "metadata": {},
   "outputs": [],
   "source": [
    "'https://gist.githubusercontent.com/datajournalism-it/f1abb68e718b54f6a0fe/raw/23636ff76534439b52b87a67e766b11fa7373aa9/regioni-con-trento-bolzano.geojson'"
   ]
  },
  {
   "cell_type": "markdown",
   "metadata": {},
   "source": [
    "population size of italian regions as to 2019 , source : https://it.wikipedia.org/wiki/Regioni_d%27Italia"
   ]
  },
  {
   "cell_type": "code",
   "execution_count": 6,
   "metadata": {},
   "outputs": [],
   "source": [
    "#pd.read_table('https://it.wikipedia.org/wiki/Regioni_d%27Italia',encoding = 'latin')\n",
    "def create_popolazione():\n",
    "    '''create a Series of regional populations'''\n",
    "    \n",
    "    popolazione = \"Lombardia,Lazio,Campania,Sicilia,Veneto,Emilia-Romagna,Piemonte,Puglia,Toscana,Calabria,Sardegna,Liguria,Marche,Abruzzo,Friuli Venezia Giulia,Trentino-Alto Adige,Umbria,Basilicata,Molise,Valle d'Aosta\".split(',')\n",
    "    nu = [10060574,5879082,5801692,4999891,4905854,4459477,4356406,4029053,3729641,1947131,1639591,1550640,1525271,1311580,1215220,1072276,882015,562869,305617,125666]\n",
    "    \n",
    "    return pd.Series(dict(zip(popolazione,nu)), name = 'popolazione' )"
   ]
  },
  {
   "cell_type": "markdown",
   "metadata": {},
   "source": [
    "'P.A Bolzano' 533349\n",
    "'P.A Trento' 545497"
   ]
  },
  {
   "cell_type": "code",
   "execution_count": 7,
   "metadata": {},
   "outputs": [],
   "source": [
    "def create_italy():\n",
    "    '''merge population and regions shape'''\n",
    "    italy = shape_.merge(pd.DataFrame(popolazione).reset_index(),left_on = 'denominazione_regione' , right_on = 'index')\n",
    "    italy.drop('index',axis = 1 , inplace = True)\n",
    "    return italy"
   ]
  },
  {
   "cell_type": "code",
   "execution_count": null,
   "metadata": {},
   "outputs": [],
   "source": []
  },
  {
   "cell_type": "code",
   "execution_count": 6,
   "metadata": {},
   "outputs": [],
   "source": [
    "def old_update_regioni(regioni , today):\n",
    "    daterange = pd.date_range(start = regioni.data.iloc[-1],end=today)\n",
    "    days = []\n",
    "\n",
    "    for x in daterange:\n",
    "        dd = '0'+str(x.day)\n",
    "        mm = '0'+str(x.month)\n",
    "        yyyy = str(x.year)\n",
    "        days.append(yyyy+mm[-2:]+dd[-2:])\n",
    "    \n",
    "    df = pd.DataFrame()\n",
    "    for i in days:\n",
    "        url =  'https://raw.githubusercontent.com/pcm-dpc/COVID-19/master/dati-regioni/dpc-covid19-ita-regioni-2020{}.csv'.format(i)\n",
    "    #df.append(pd.read_csv(url, encoding= 'Latin'))dpc-covid19-ita-regioni\n",
    "        df = pd.concat([df,pd.read_csv(url, encoding=\"Latin\")])\n",
    "        df.data = pd.to_datetime(df.data , yearfirst=True)\n",
    "        df = df[df['codice_regione'].map(lambda x :len(str(x)) < 3)]\n",
    "    #rename regions\n",
    "        df['denominazione_regione'] = df['denominazione_regione'].mask(df['denominazione_regione']=='P.A. Bolzano', 'Trentino-Alto Adige')\n",
    "        df['denominazione_regione'] = df['denominazione_regione'].mask(df['denominazione_regione']=='P.A. Trento', 'Trentino-Alto Adige')\n",
    "    regioni = pd.concat([regioni,df],axis = 0)    \n",
    "    return regioni"
   ]
  },
  {
   "cell_type": "code",
   "execution_count": 13,
   "metadata": {},
   "outputs": [],
   "source": [
    "def update_regioni(regioni , today : str):\n",
    "    '''update up to any month in 2021'''\n",
    "    \n",
    "    #get the last day of the dataset\n",
    "    daterange = pd.date_range(start = regioni.data.iloc[-1],end = today)\n",
    "    days = []\n",
    "    \n",
    "    for x in daterange:\n",
    "        dd = '0'+str(x.day)\n",
    "        mm = '0'+str(x.month)\n",
    "        yyyy = str(x.year)\n",
    "        days.append(yyyy+mm[-2:]+dd[-2:])\n",
    "    \n",
    "    df = pd.DataFrame()\n",
    "    for i in days[1:]: # exclude the first day it is already in the dataset\n",
    "        url =  'https://raw.githubusercontent.com/pcm-dpc/COVID-19/master/dati-regioni/dpc-covid19-ita-regioni-{}.csv'.format(i)\n",
    "    #df.append(pd.read_csv(url, encoding= 'Latin'))dpc-covid19-ita-regioni\n",
    "        df = pd.concat([df,pd.read_csv(url, encoding=\"Latin\")])\n",
    "        df.data = pd.to_datetime(df.data , yearfirst=True)\n",
    "        df = df[df['codice_regione'].map(lambda x :len(str(x)) < 3)]\n",
    "    #rename regions\n",
    "        df['denominazione_regione'] = df['denominazione_regione'].mask(df['denominazione_regione']=='P.A. Bolzano', 'Trentino-Alto Adige')\n",
    "        df['denominazione_regione'] = df['denominazione_regione'].mask(df['denominazione_regione']=='P.A. Trento', 'Trentino-Alto Adige')\n",
    "    regioni = pd.concat([regioni,df],axis = 0)    \n",
    "    return regioni"
   ]
  },
  {
   "cell_type": "markdown",
   "metadata": {},
   "source": [
    "# Data"
   ]
  },
  {
   "cell_type": "markdown",
   "metadata": {},
   "source": [
    "## Create New data "
   ]
  },
  {
   "cell_type": "code",
   "execution_count": 82,
   "metadata": {},
   "outputs": [],
   "source": [
    "daterange = pd.date_range(start = '20200306',end='20210215' )\n",
    "daterange = [str(dt.date()).replace('-','') for dt in daterange]"
   ]
  },
  {
   "cell_type": "code",
   "execution_count": 84,
   "metadata": {},
   "outputs": [],
   "source": [
    "reg = create_df_regioni(daterange)"
   ]
  },
  {
   "cell_type": "code",
   "execution_count": null,
   "metadata": {},
   "outputs": [],
   "source": []
  },
  {
   "cell_type": "markdown",
   "metadata": {},
   "source": [
    "### Load Data Set"
   ]
  },
  {
   "cell_type": "code",
   "execution_count": 14,
   "metadata": {},
   "outputs": [],
   "source": [
    "regioni = pd.read_csv('covid_regioni.csv')\n",
    "italy = pd.read_csv('italy.csv')\n",
    "italy = italy.iloc[:,1:]"
   ]
  },
  {
   "cell_type": "code",
   "execution_count": 15,
   "metadata": {},
   "outputs": [
    {
     "data": {
      "text/html": [
       "<div>\n",
       "<style scoped>\n",
       "    .dataframe tbody tr th:only-of-type {\n",
       "        vertical-align: middle;\n",
       "    }\n",
       "\n",
       "    .dataframe tbody tr th {\n",
       "        vertical-align: top;\n",
       "    }\n",
       "\n",
       "    .dataframe thead th {\n",
       "        text-align: right;\n",
       "    }\n",
       "</style>\n",
       "<table border=\"1\" class=\"dataframe\">\n",
       "  <thead>\n",
       "    <tr style=\"text-align: right;\">\n",
       "      <th></th>\n",
       "      <th>Unnamed: 0</th>\n",
       "      <th>Unnamed: 0.1</th>\n",
       "      <th>data</th>\n",
       "      <th>stato</th>\n",
       "      <th>codice_regione</th>\n",
       "      <th>denominazione_regione</th>\n",
       "      <th>lat</th>\n",
       "      <th>long</th>\n",
       "      <th>ricoverati_con_sintomi</th>\n",
       "      <th>terapia_intensiva</th>\n",
       "      <th>...</th>\n",
       "      <th>deceduti</th>\n",
       "      <th>casi_da_sospetto_diagnostico</th>\n",
       "      <th>casi_da_screening</th>\n",
       "      <th>totale_casi</th>\n",
       "      <th>tamponi</th>\n",
       "      <th>casi_testati</th>\n",
       "      <th>note</th>\n",
       "      <th>ingressi_terapia_intensiva</th>\n",
       "      <th>note_test</th>\n",
       "      <th>note_casi</th>\n",
       "    </tr>\n",
       "  </thead>\n",
       "  <tbody>\n",
       "    <tr>\n",
       "      <th>6316</th>\n",
       "      <td>16</td>\n",
       "      <td>NaN</td>\n",
       "      <td>2020-12-30 17:00:00</td>\n",
       "      <td>ITA</td>\n",
       "      <td>19</td>\n",
       "      <td>Sicilia</td>\n",
       "      <td>38.115697</td>\n",
       "      <td>13.362357</td>\n",
       "      <td>1085</td>\n",
       "      <td>166</td>\n",
       "      <td>...</td>\n",
       "      <td>2381</td>\n",
       "      <td>NaN</td>\n",
       "      <td>NaN</td>\n",
       "      <td>92345</td>\n",
       "      <td>1211824</td>\n",
       "      <td>808160.0</td>\n",
       "      <td>NaN</td>\n",
       "      <td>12.0</td>\n",
       "      <td>NaN</td>\n",
       "      <td>NaN</td>\n",
       "    </tr>\n",
       "    <tr>\n",
       "      <th>6317</th>\n",
       "      <td>17</td>\n",
       "      <td>NaN</td>\n",
       "      <td>2020-12-30 17:00:00</td>\n",
       "      <td>ITA</td>\n",
       "      <td>9</td>\n",
       "      <td>Toscana</td>\n",
       "      <td>43.769231</td>\n",
       "      <td>11.255889</td>\n",
       "      <td>869</td>\n",
       "      <td>160</td>\n",
       "      <td>...</td>\n",
       "      <td>3655</td>\n",
       "      <td>NaN</td>\n",
       "      <td>NaN</td>\n",
       "      <td>119696</td>\n",
       "      <td>1872240</td>\n",
       "      <td>1057968.0</td>\n",
       "      <td>NaN</td>\n",
       "      <td>10.0</td>\n",
       "      <td>Positivi diagnosticati solo con test antigenic...</td>\n",
       "      <td>NaN</td>\n",
       "    </tr>\n",
       "    <tr>\n",
       "      <th>6318</th>\n",
       "      <td>18</td>\n",
       "      <td>NaN</td>\n",
       "      <td>2020-12-30 17:00:00</td>\n",
       "      <td>ITA</td>\n",
       "      <td>10</td>\n",
       "      <td>Umbria</td>\n",
       "      <td>43.106758</td>\n",
       "      <td>12.388247</td>\n",
       "      <td>256</td>\n",
       "      <td>44</td>\n",
       "      <td>...</td>\n",
       "      <td>618</td>\n",
       "      <td>NaN</td>\n",
       "      <td>NaN</td>\n",
       "      <td>28660</td>\n",
       "      <td>500003</td>\n",
       "      <td>251329.0</td>\n",
       "      <td>NaN</td>\n",
       "      <td>8.0</td>\n",
       "      <td>NaN</td>\n",
       "      <td>NaN</td>\n",
       "    </tr>\n",
       "    <tr>\n",
       "      <th>6319</th>\n",
       "      <td>19</td>\n",
       "      <td>NaN</td>\n",
       "      <td>2020-12-30 17:00:00</td>\n",
       "      <td>ITA</td>\n",
       "      <td>2</td>\n",
       "      <td>Valle d'Aosta</td>\n",
       "      <td>45.737503</td>\n",
       "      <td>7.320149</td>\n",
       "      <td>72</td>\n",
       "      <td>2</td>\n",
       "      <td>...</td>\n",
       "      <td>379</td>\n",
       "      <td>NaN</td>\n",
       "      <td>NaN</td>\n",
       "      <td>7244</td>\n",
       "      <td>62480</td>\n",
       "      <td>37323.0</td>\n",
       "      <td>NaN</td>\n",
       "      <td>2.0</td>\n",
       "      <td>NaN</td>\n",
       "      <td>NaN</td>\n",
       "    </tr>\n",
       "    <tr>\n",
       "      <th>6320</th>\n",
       "      <td>20</td>\n",
       "      <td>NaN</td>\n",
       "      <td>2020-12-30 17:00:00</td>\n",
       "      <td>ITA</td>\n",
       "      <td>5</td>\n",
       "      <td>Veneto</td>\n",
       "      <td>45.434905</td>\n",
       "      <td>12.338452</td>\n",
       "      <td>2711</td>\n",
       "      <td>358</td>\n",
       "      <td>...</td>\n",
       "      <td>6410</td>\n",
       "      <td>NaN</td>\n",
       "      <td>NaN</td>\n",
       "      <td>249075</td>\n",
       "      <td>3276810</td>\n",
       "      <td>1208044.0</td>\n",
       "      <td>Nei valori riportati per le terapie intensive ...</td>\n",
       "      <td>36.0</td>\n",
       "      <td>NaN</td>\n",
       "      <td>NaN</td>\n",
       "    </tr>\n",
       "  </tbody>\n",
       "</table>\n",
       "<p>5 rows × 26 columns</p>\n",
       "</div>"
      ],
      "text/plain": [
       "      Unnamed: 0  Unnamed: 0.1                 data stato  codice_regione  \\\n",
       "6316          16           NaN  2020-12-30 17:00:00   ITA              19   \n",
       "6317          17           NaN  2020-12-30 17:00:00   ITA               9   \n",
       "6318          18           NaN  2020-12-30 17:00:00   ITA              10   \n",
       "6319          19           NaN  2020-12-30 17:00:00   ITA               2   \n",
       "6320          20           NaN  2020-12-30 17:00:00   ITA               5   \n",
       "\n",
       "     denominazione_regione        lat       long  ricoverati_con_sintomi  \\\n",
       "6316               Sicilia  38.115697  13.362357                    1085   \n",
       "6317               Toscana  43.769231  11.255889                     869   \n",
       "6318                Umbria  43.106758  12.388247                     256   \n",
       "6319         Valle d'Aosta  45.737503   7.320149                      72   \n",
       "6320                Veneto  45.434905  12.338452                    2711   \n",
       "\n",
       "      terapia_intensiva  ...  deceduti  casi_da_sospetto_diagnostico  \\\n",
       "6316                166  ...      2381                           NaN   \n",
       "6317                160  ...      3655                           NaN   \n",
       "6318                 44  ...       618                           NaN   \n",
       "6319                  2  ...       379                           NaN   \n",
       "6320                358  ...      6410                           NaN   \n",
       "\n",
       "      casi_da_screening  totale_casi  tamponi  casi_testati  \\\n",
       "6316                NaN        92345  1211824      808160.0   \n",
       "6317                NaN       119696  1872240     1057968.0   \n",
       "6318                NaN        28660   500003      251329.0   \n",
       "6319                NaN         7244    62480       37323.0   \n",
       "6320                NaN       249075  3276810     1208044.0   \n",
       "\n",
       "                                                   note  \\\n",
       "6316                                                NaN   \n",
       "6317                                                NaN   \n",
       "6318                                                NaN   \n",
       "6319                                                NaN   \n",
       "6320  Nei valori riportati per le terapie intensive ...   \n",
       "\n",
       "      ingressi_terapia_intensiva  \\\n",
       "6316                        12.0   \n",
       "6317                        10.0   \n",
       "6318                         8.0   \n",
       "6319                         2.0   \n",
       "6320                        36.0   \n",
       "\n",
       "                                              note_test  note_casi  \n",
       "6316                                                NaN        NaN  \n",
       "6317  Positivi diagnosticati solo con test antigenic...        NaN  \n",
       "6318                                                NaN        NaN  \n",
       "6319                                                NaN        NaN  \n",
       "6320                                                NaN        NaN  \n",
       "\n",
       "[5 rows x 26 columns]"
      ]
     },
     "execution_count": 15,
     "metadata": {},
     "output_type": "execute_result"
    }
   ],
   "source": [
    "regioni.tail()"
   ]
  },
  {
   "cell_type": "markdown",
   "metadata": {},
   "source": [
    "update :\n",
    "    "
   ]
  },
  {
   "cell_type": "code",
   "execution_count": 16,
   "metadata": {},
   "outputs": [],
   "source": [
    "regioni = update_regioni(regioni , '20210313')"
   ]
  },
  {
   "cell_type": "code",
   "execution_count": 17,
   "metadata": {},
   "outputs": [
    {
     "data": {
      "text/html": [
       "<div>\n",
       "<style scoped>\n",
       "    .dataframe tbody tr th:only-of-type {\n",
       "        vertical-align: middle;\n",
       "    }\n",
       "\n",
       "    .dataframe tbody tr th {\n",
       "        vertical-align: top;\n",
       "    }\n",
       "\n",
       "    .dataframe thead th {\n",
       "        text-align: right;\n",
       "    }\n",
       "</style>\n",
       "<table border=\"1\" class=\"dataframe\">\n",
       "  <thead>\n",
       "    <tr style=\"text-align: right;\">\n",
       "      <th></th>\n",
       "      <th>Unnamed: 0</th>\n",
       "      <th>Unnamed: 0.1</th>\n",
       "      <th>data</th>\n",
       "      <th>stato</th>\n",
       "      <th>codice_regione</th>\n",
       "      <th>denominazione_regione</th>\n",
       "      <th>lat</th>\n",
       "      <th>long</th>\n",
       "      <th>ricoverati_con_sintomi</th>\n",
       "      <th>terapia_intensiva</th>\n",
       "      <th>...</th>\n",
       "      <th>note</th>\n",
       "      <th>ingressi_terapia_intensiva</th>\n",
       "      <th>note_test</th>\n",
       "      <th>note_casi</th>\n",
       "      <th>totale_positivi_test_molecolare</th>\n",
       "      <th>totale_positivi_test_antigenico_rapido</th>\n",
       "      <th>tamponi_test_molecolare</th>\n",
       "      <th>tamponi_test_antigenico_rapido</th>\n",
       "      <th>codice_nuts_1</th>\n",
       "      <th>codice_nuts_2</th>\n",
       "    </tr>\n",
       "  </thead>\n",
       "  <tbody>\n",
       "    <tr>\n",
       "      <th>19</th>\n",
       "      <td>NaN</td>\n",
       "      <td>NaN</td>\n",
       "      <td>2021-03-12 17:00:00</td>\n",
       "      <td>ITA</td>\n",
       "      <td>2</td>\n",
       "      <td>Valle d'Aosta</td>\n",
       "      <td>45.737503</td>\n",
       "      <td>7.320149</td>\n",
       "      <td>12</td>\n",
       "      <td>2</td>\n",
       "      <td>...</td>\n",
       "      <td>NaN</td>\n",
       "      <td>0.0</td>\n",
       "      <td>NaN</td>\n",
       "      <td>NaN</td>\n",
       "      <td>8240.0</td>\n",
       "      <td>0.0</td>\n",
       "      <td>76776.0</td>\n",
       "      <td>5619.0</td>\n",
       "      <td>ITC</td>\n",
       "      <td>ITC2</td>\n",
       "    </tr>\n",
       "    <tr>\n",
       "      <th>20</th>\n",
       "      <td>NaN</td>\n",
       "      <td>NaN</td>\n",
       "      <td>2021-03-12 17:00:00</td>\n",
       "      <td>ITA</td>\n",
       "      <td>5</td>\n",
       "      <td>Veneto</td>\n",
       "      <td>45.434905</td>\n",
       "      <td>12.338452</td>\n",
       "      <td>1106</td>\n",
       "      <td>154</td>\n",
       "      <td>...</td>\n",
       "      <td>Nei valori riportati per le terapie intensive ...</td>\n",
       "      <td>22.0</td>\n",
       "      <td>NaN</td>\n",
       "      <td>NaN</td>\n",
       "      <td>343453.0</td>\n",
       "      <td>6592.0</td>\n",
       "      <td>4209207.0</td>\n",
       "      <td>1260168.0</td>\n",
       "      <td>ITH</td>\n",
       "      <td>ITH3</td>\n",
       "    </tr>\n",
       "  </tbody>\n",
       "</table>\n",
       "<p>2 rows × 32 columns</p>\n",
       "</div>"
      ],
      "text/plain": [
       "    Unnamed: 0  Unnamed: 0.1                 data stato  codice_regione  \\\n",
       "19         NaN           NaN  2021-03-12 17:00:00   ITA               2   \n",
       "20         NaN           NaN  2021-03-12 17:00:00   ITA               5   \n",
       "\n",
       "   denominazione_regione        lat       long  ricoverati_con_sintomi  \\\n",
       "19         Valle d'Aosta  45.737503   7.320149                      12   \n",
       "20                Veneto  45.434905  12.338452                    1106   \n",
       "\n",
       "    terapia_intensiva  ...                                               note  \\\n",
       "19                  2  ...                                                NaN   \n",
       "20                154  ...  Nei valori riportati per le terapie intensive ...   \n",
       "\n",
       "    ingressi_terapia_intensiva  note_test  note_casi  \\\n",
       "19                         0.0        NaN        NaN   \n",
       "20                        22.0        NaN        NaN   \n",
       "\n",
       "    totale_positivi_test_molecolare  totale_positivi_test_antigenico_rapido  \\\n",
       "19                           8240.0                                     0.0   \n",
       "20                         343453.0                                  6592.0   \n",
       "\n",
       "    tamponi_test_molecolare  tamponi_test_antigenico_rapido  codice_nuts_1  \\\n",
       "19                  76776.0                          5619.0            ITC   \n",
       "20                4209207.0                       1260168.0            ITH   \n",
       "\n",
       "    codice_nuts_2  \n",
       "19           ITC2  \n",
       "20           ITH3  \n",
       "\n",
       "[2 rows x 32 columns]"
      ]
     },
     "execution_count": 17,
     "metadata": {},
     "output_type": "execute_result"
    }
   ],
   "source": [
    "regioni.tail(2)"
   ]
  },
  {
   "cell_type": "code",
   "execution_count": null,
   "metadata": {},
   "outputs": [],
   "source": []
  },
  {
   "cell_type": "code",
   "execution_count": 15,
   "metadata": {},
   "outputs": [],
   "source": [
    "daterange = pd.date_range(start = regioni.data.iloc[-1],end='20210215')"
   ]
  },
  {
   "cell_type": "code",
   "execution_count": 23,
   "metadata": {},
   "outputs": [],
   "source": [
    "daterange = pd.date_range(start = regioni.data.iloc[-1],end='20210215')\n",
    "days = []\n",
    "for x in daterange:\n",
    "    dd = '0'+str(x.day)\n",
    "    mm = '0'+str(x.month)\n",
    "    yyyy = str(x.year)\n",
    "    days.append(yyyy+mm[-2:]+dd[-2:])\n",
    "    "
   ]
  },
  {
   "cell_type": "code",
   "execution_count": 25,
   "metadata": {},
   "outputs": [],
   "source": [
    "df = pd.DataFrame()"
   ]
  },
  {
   "cell_type": "code",
   "execution_count": 26,
   "metadata": {},
   "outputs": [],
   "source": [
    "for d in days:\n",
    "    url = f'https://raw.githubusercontent.com/pcm-dpc/COVID-19/master/dati-regioni/dpc-covid19-ita-regioni-{d}.csv'\n",
    "    df = pd.concat([df,pd.read_csv(url, encoding=\"Latin\")], axis = 0)"
   ]
  },
  {
   "cell_type": "code",
   "execution_count": 29,
   "metadata": {},
   "outputs": [
    {
     "data": {
      "text/html": [
       "<div>\n",
       "<style scoped>\n",
       "    .dataframe tbody tr th:only-of-type {\n",
       "        vertical-align: middle;\n",
       "    }\n",
       "\n",
       "    .dataframe tbody tr th {\n",
       "        vertical-align: top;\n",
       "    }\n",
       "\n",
       "    .dataframe thead th {\n",
       "        text-align: right;\n",
       "    }\n",
       "</style>\n",
       "<table border=\"1\" class=\"dataframe\">\n",
       "  <thead>\n",
       "    <tr style=\"text-align: right;\">\n",
       "      <th></th>\n",
       "      <th>Unnamed: 0</th>\n",
       "      <th>Unnamed: 0.1</th>\n",
       "      <th>data</th>\n",
       "      <th>stato</th>\n",
       "      <th>codice_regione</th>\n",
       "      <th>denominazione_regione</th>\n",
       "      <th>lat</th>\n",
       "      <th>long</th>\n",
       "      <th>ricoverati_con_sintomi</th>\n",
       "      <th>terapia_intensiva</th>\n",
       "      <th>...</th>\n",
       "      <th>deceduti</th>\n",
       "      <th>casi_da_sospetto_diagnostico</th>\n",
       "      <th>casi_da_screening</th>\n",
       "      <th>totale_casi</th>\n",
       "      <th>tamponi</th>\n",
       "      <th>casi_testati</th>\n",
       "      <th>note</th>\n",
       "      <th>ingressi_terapia_intensiva</th>\n",
       "      <th>note_test</th>\n",
       "      <th>note_casi</th>\n",
       "    </tr>\n",
       "  </thead>\n",
       "  <tbody>\n",
       "    <tr>\n",
       "      <th>6316</th>\n",
       "      <td>16</td>\n",
       "      <td>NaN</td>\n",
       "      <td>2020-12-30 17:00:00</td>\n",
       "      <td>ITA</td>\n",
       "      <td>19</td>\n",
       "      <td>Sicilia</td>\n",
       "      <td>38.115697</td>\n",
       "      <td>13.362357</td>\n",
       "      <td>1085</td>\n",
       "      <td>166</td>\n",
       "      <td>...</td>\n",
       "      <td>2381</td>\n",
       "      <td>NaN</td>\n",
       "      <td>NaN</td>\n",
       "      <td>92345</td>\n",
       "      <td>1211824</td>\n",
       "      <td>808160.0</td>\n",
       "      <td>NaN</td>\n",
       "      <td>12.0</td>\n",
       "      <td>NaN</td>\n",
       "      <td>NaN</td>\n",
       "    </tr>\n",
       "    <tr>\n",
       "      <th>6317</th>\n",
       "      <td>17</td>\n",
       "      <td>NaN</td>\n",
       "      <td>2020-12-30 17:00:00</td>\n",
       "      <td>ITA</td>\n",
       "      <td>9</td>\n",
       "      <td>Toscana</td>\n",
       "      <td>43.769231</td>\n",
       "      <td>11.255889</td>\n",
       "      <td>869</td>\n",
       "      <td>160</td>\n",
       "      <td>...</td>\n",
       "      <td>3655</td>\n",
       "      <td>NaN</td>\n",
       "      <td>NaN</td>\n",
       "      <td>119696</td>\n",
       "      <td>1872240</td>\n",
       "      <td>1057968.0</td>\n",
       "      <td>NaN</td>\n",
       "      <td>10.0</td>\n",
       "      <td>Positivi diagnosticati solo con test antigenic...</td>\n",
       "      <td>NaN</td>\n",
       "    </tr>\n",
       "    <tr>\n",
       "      <th>6318</th>\n",
       "      <td>18</td>\n",
       "      <td>NaN</td>\n",
       "      <td>2020-12-30 17:00:00</td>\n",
       "      <td>ITA</td>\n",
       "      <td>10</td>\n",
       "      <td>Umbria</td>\n",
       "      <td>43.106758</td>\n",
       "      <td>12.388247</td>\n",
       "      <td>256</td>\n",
       "      <td>44</td>\n",
       "      <td>...</td>\n",
       "      <td>618</td>\n",
       "      <td>NaN</td>\n",
       "      <td>NaN</td>\n",
       "      <td>28660</td>\n",
       "      <td>500003</td>\n",
       "      <td>251329.0</td>\n",
       "      <td>NaN</td>\n",
       "      <td>8.0</td>\n",
       "      <td>NaN</td>\n",
       "      <td>NaN</td>\n",
       "    </tr>\n",
       "    <tr>\n",
       "      <th>6319</th>\n",
       "      <td>19</td>\n",
       "      <td>NaN</td>\n",
       "      <td>2020-12-30 17:00:00</td>\n",
       "      <td>ITA</td>\n",
       "      <td>2</td>\n",
       "      <td>Valle d'Aosta</td>\n",
       "      <td>45.737503</td>\n",
       "      <td>7.320149</td>\n",
       "      <td>72</td>\n",
       "      <td>2</td>\n",
       "      <td>...</td>\n",
       "      <td>379</td>\n",
       "      <td>NaN</td>\n",
       "      <td>NaN</td>\n",
       "      <td>7244</td>\n",
       "      <td>62480</td>\n",
       "      <td>37323.0</td>\n",
       "      <td>NaN</td>\n",
       "      <td>2.0</td>\n",
       "      <td>NaN</td>\n",
       "      <td>NaN</td>\n",
       "    </tr>\n",
       "    <tr>\n",
       "      <th>6320</th>\n",
       "      <td>20</td>\n",
       "      <td>NaN</td>\n",
       "      <td>2020-12-30 17:00:00</td>\n",
       "      <td>ITA</td>\n",
       "      <td>5</td>\n",
       "      <td>Veneto</td>\n",
       "      <td>45.434905</td>\n",
       "      <td>12.338452</td>\n",
       "      <td>2711</td>\n",
       "      <td>358</td>\n",
       "      <td>...</td>\n",
       "      <td>6410</td>\n",
       "      <td>NaN</td>\n",
       "      <td>NaN</td>\n",
       "      <td>249075</td>\n",
       "      <td>3276810</td>\n",
       "      <td>1208044.0</td>\n",
       "      <td>Nei valori riportati per le terapie intensive ...</td>\n",
       "      <td>36.0</td>\n",
       "      <td>NaN</td>\n",
       "      <td>NaN</td>\n",
       "    </tr>\n",
       "  </tbody>\n",
       "</table>\n",
       "<p>5 rows × 26 columns</p>\n",
       "</div>"
      ],
      "text/plain": [
       "      Unnamed: 0  Unnamed: 0.1                 data stato  codice_regione  \\\n",
       "6316          16           NaN  2020-12-30 17:00:00   ITA              19   \n",
       "6317          17           NaN  2020-12-30 17:00:00   ITA               9   \n",
       "6318          18           NaN  2020-12-30 17:00:00   ITA              10   \n",
       "6319          19           NaN  2020-12-30 17:00:00   ITA               2   \n",
       "6320          20           NaN  2020-12-30 17:00:00   ITA               5   \n",
       "\n",
       "     denominazione_regione        lat       long  ricoverati_con_sintomi  \\\n",
       "6316               Sicilia  38.115697  13.362357                    1085   \n",
       "6317               Toscana  43.769231  11.255889                     869   \n",
       "6318                Umbria  43.106758  12.388247                     256   \n",
       "6319         Valle d'Aosta  45.737503   7.320149                      72   \n",
       "6320                Veneto  45.434905  12.338452                    2711   \n",
       "\n",
       "      terapia_intensiva  ...  deceduti  casi_da_sospetto_diagnostico  \\\n",
       "6316                166  ...      2381                           NaN   \n",
       "6317                160  ...      3655                           NaN   \n",
       "6318                 44  ...       618                           NaN   \n",
       "6319                  2  ...       379                           NaN   \n",
       "6320                358  ...      6410                           NaN   \n",
       "\n",
       "      casi_da_screening  totale_casi  tamponi  casi_testati  \\\n",
       "6316                NaN        92345  1211824      808160.0   \n",
       "6317                NaN       119696  1872240     1057968.0   \n",
       "6318                NaN        28660   500003      251329.0   \n",
       "6319                NaN         7244    62480       37323.0   \n",
       "6320                NaN       249075  3276810     1208044.0   \n",
       "\n",
       "                                                   note  \\\n",
       "6316                                                NaN   \n",
       "6317                                                NaN   \n",
       "6318                                                NaN   \n",
       "6319                                                NaN   \n",
       "6320  Nei valori riportati per le terapie intensive ...   \n",
       "\n",
       "      ingressi_terapia_intensiva  \\\n",
       "6316                        12.0   \n",
       "6317                        10.0   \n",
       "6318                         8.0   \n",
       "6319                         2.0   \n",
       "6320                        36.0   \n",
       "\n",
       "                                              note_test  note_casi  \n",
       "6316                                                NaN        NaN  \n",
       "6317  Positivi diagnosticati solo con test antigenic...        NaN  \n",
       "6318                                                NaN        NaN  \n",
       "6319                                                NaN        NaN  \n",
       "6320                                                NaN        NaN  \n",
       "\n",
       "[5 rows x 26 columns]"
      ]
     },
     "execution_count": 29,
     "metadata": {},
     "output_type": "execute_result"
    }
   ],
   "source": [
    "regioni.tail()"
   ]
  },
  {
   "cell_type": "code",
   "execution_count": 34,
   "metadata": {},
   "outputs": [
    {
     "data": {
      "text/html": [
       "<div>\n",
       "<style scoped>\n",
       "    .dataframe tbody tr th:only-of-type {\n",
       "        vertical-align: middle;\n",
       "    }\n",
       "\n",
       "    .dataframe tbody tr th {\n",
       "        vertical-align: top;\n",
       "    }\n",
       "\n",
       "    .dataframe thead th {\n",
       "        text-align: right;\n",
       "    }\n",
       "</style>\n",
       "<table border=\"1\" class=\"dataframe\">\n",
       "  <thead>\n",
       "    <tr style=\"text-align: right;\">\n",
       "      <th></th>\n",
       "      <th>data</th>\n",
       "      <th>stato</th>\n",
       "      <th>codice_regione</th>\n",
       "      <th>denominazione_regione</th>\n",
       "      <th>lat</th>\n",
       "      <th>long</th>\n",
       "      <th>ricoverati_con_sintomi</th>\n",
       "      <th>terapia_intensiva</th>\n",
       "      <th>totale_ospedalizzati</th>\n",
       "      <th>isolamento_domiciliare</th>\n",
       "      <th>...</th>\n",
       "      <th>note</th>\n",
       "      <th>ingressi_terapia_intensiva</th>\n",
       "      <th>note_test</th>\n",
       "      <th>note_casi</th>\n",
       "      <th>totale_positivi_test_molecolare</th>\n",
       "      <th>totale_positivi_test_antigenico_rapido</th>\n",
       "      <th>tamponi_test_molecolare</th>\n",
       "      <th>tamponi_test_antigenico_rapido</th>\n",
       "      <th>codice_nuts_1</th>\n",
       "      <th>codice_nuts_2</th>\n",
       "    </tr>\n",
       "  </thead>\n",
       "  <tbody>\n",
       "    <tr>\n",
       "      <th>0</th>\n",
       "      <td>2020-12-31T17:00:00</td>\n",
       "      <td>ITA</td>\n",
       "      <td>13</td>\n",
       "      <td>Abruzzo</td>\n",
       "      <td>42.351222</td>\n",
       "      <td>13.398438</td>\n",
       "      <td>430</td>\n",
       "      <td>35</td>\n",
       "      <td>465</td>\n",
       "      <td>10608</td>\n",
       "      <td>...</td>\n",
       "      <td>NaN</td>\n",
       "      <td>3</td>\n",
       "      <td>NaN</td>\n",
       "      <td>NaN</td>\n",
       "      <td>NaN</td>\n",
       "      <td>NaN</td>\n",
       "      <td>NaN</td>\n",
       "      <td>NaN</td>\n",
       "      <td>NaN</td>\n",
       "      <td>NaN</td>\n",
       "    </tr>\n",
       "    <tr>\n",
       "      <th>1</th>\n",
       "      <td>2020-12-31T17:00:00</td>\n",
       "      <td>ITA</td>\n",
       "      <td>17</td>\n",
       "      <td>Basilicata</td>\n",
       "      <td>40.639471</td>\n",
       "      <td>15.805148</td>\n",
       "      <td>89</td>\n",
       "      <td>4</td>\n",
       "      <td>93</td>\n",
       "      <td>5958</td>\n",
       "      <td>...</td>\n",
       "      <td>N. 7 decessi sono da attribuire a casi positiv...</td>\n",
       "      <td>0</td>\n",
       "      <td>NaN</td>\n",
       "      <td>NaN</td>\n",
       "      <td>NaN</td>\n",
       "      <td>NaN</td>\n",
       "      <td>NaN</td>\n",
       "      <td>NaN</td>\n",
       "      <td>NaN</td>\n",
       "      <td>NaN</td>\n",
       "    </tr>\n",
       "    <tr>\n",
       "      <th>2</th>\n",
       "      <td>2020-12-31T17:00:00</td>\n",
       "      <td>ITA</td>\n",
       "      <td>18</td>\n",
       "      <td>Calabria</td>\n",
       "      <td>38.905976</td>\n",
       "      <td>16.594402</td>\n",
       "      <td>243</td>\n",
       "      <td>18</td>\n",
       "      <td>261</td>\n",
       "      <td>8556</td>\n",
       "      <td>...</td>\n",
       "      <td>NaN</td>\n",
       "      <td>2</td>\n",
       "      <td>NaN</td>\n",
       "      <td>NaN</td>\n",
       "      <td>NaN</td>\n",
       "      <td>NaN</td>\n",
       "      <td>NaN</td>\n",
       "      <td>NaN</td>\n",
       "      <td>NaN</td>\n",
       "      <td>NaN</td>\n",
       "    </tr>\n",
       "    <tr>\n",
       "      <th>3</th>\n",
       "      <td>2020-12-31T17:00:00</td>\n",
       "      <td>ITA</td>\n",
       "      <td>15</td>\n",
       "      <td>Campania</td>\n",
       "      <td>40.839566</td>\n",
       "      <td>14.250850</td>\n",
       "      <td>1325</td>\n",
       "      <td>113</td>\n",
       "      <td>1438</td>\n",
       "      <td>75817</td>\n",
       "      <td>...</td>\n",
       "      <td>NaN</td>\n",
       "      <td>15</td>\n",
       "      <td>NaN</td>\n",
       "      <td>NaN</td>\n",
       "      <td>NaN</td>\n",
       "      <td>NaN</td>\n",
       "      <td>NaN</td>\n",
       "      <td>NaN</td>\n",
       "      <td>NaN</td>\n",
       "      <td>NaN</td>\n",
       "    </tr>\n",
       "    <tr>\n",
       "      <th>4</th>\n",
       "      <td>2020-12-31T17:00:00</td>\n",
       "      <td>ITA</td>\n",
       "      <td>8</td>\n",
       "      <td>Emilia-Romagna</td>\n",
       "      <td>44.494367</td>\n",
       "      <td>11.341721</td>\n",
       "      <td>2629</td>\n",
       "      <td>233</td>\n",
       "      <td>2862</td>\n",
       "      <td>54484</td>\n",
       "      <td>...</td>\n",
       "      <td>NaN</td>\n",
       "      <td>20</td>\n",
       "      <td>NaN</td>\n",
       "      <td>NaN</td>\n",
       "      <td>NaN</td>\n",
       "      <td>NaN</td>\n",
       "      <td>NaN</td>\n",
       "      <td>NaN</td>\n",
       "      <td>NaN</td>\n",
       "      <td>NaN</td>\n",
       "    </tr>\n",
       "    <tr>\n",
       "      <th>...</th>\n",
       "      <td>...</td>\n",
       "      <td>...</td>\n",
       "      <td>...</td>\n",
       "      <td>...</td>\n",
       "      <td>...</td>\n",
       "      <td>...</td>\n",
       "      <td>...</td>\n",
       "      <td>...</td>\n",
       "      <td>...</td>\n",
       "      <td>...</td>\n",
       "      <td>...</td>\n",
       "      <td>...</td>\n",
       "      <td>...</td>\n",
       "      <td>...</td>\n",
       "      <td>...</td>\n",
       "      <td>...</td>\n",
       "      <td>...</td>\n",
       "      <td>...</td>\n",
       "      <td>...</td>\n",
       "      <td>...</td>\n",
       "      <td>...</td>\n",
       "    </tr>\n",
       "    <tr>\n",
       "      <th>16</th>\n",
       "      <td>2021-02-14T17:00:00</td>\n",
       "      <td>ITA</td>\n",
       "      <td>19</td>\n",
       "      <td>Sicilia</td>\n",
       "      <td>38.115697</td>\n",
       "      <td>13.362357</td>\n",
       "      <td>1030</td>\n",
       "      <td>165</td>\n",
       "      <td>1195</td>\n",
       "      <td>33671</td>\n",
       "      <td>...</td>\n",
       "      <td>NaN</td>\n",
       "      <td>5</td>\n",
       "      <td>NaN</td>\n",
       "      <td>NaN</td>\n",
       "      <td>145744.0</td>\n",
       "      <td>0.0</td>\n",
       "      <td>1630116.0</td>\n",
       "      <td>485565.0</td>\n",
       "      <td>ITG</td>\n",
       "      <td>ITG1</td>\n",
       "    </tr>\n",
       "    <tr>\n",
       "      <th>17</th>\n",
       "      <td>2021-02-14T17:00:00</td>\n",
       "      <td>ITA</td>\n",
       "      <td>9</td>\n",
       "      <td>Toscana</td>\n",
       "      <td>43.769231</td>\n",
       "      <td>11.255889</td>\n",
       "      <td>693</td>\n",
       "      <td>130</td>\n",
       "      <td>823</td>\n",
       "      <td>11342</td>\n",
       "      <td>...</td>\n",
       "      <td>NaN</td>\n",
       "      <td>6</td>\n",
       "      <td>NaN</td>\n",
       "      <td>NaN</td>\n",
       "      <td>143070.0</td>\n",
       "      <td>305.0</td>\n",
       "      <td>2291264.0</td>\n",
       "      <td>166807.0</td>\n",
       "      <td>ITI</td>\n",
       "      <td>ITI1</td>\n",
       "    </tr>\n",
       "    <tr>\n",
       "      <th>18</th>\n",
       "      <td>2021-02-14T17:00:00</td>\n",
       "      <td>ITA</td>\n",
       "      <td>10</td>\n",
       "      <td>Umbria</td>\n",
       "      <td>43.106758</td>\n",
       "      <td>12.388247</td>\n",
       "      <td>451</td>\n",
       "      <td>84</td>\n",
       "      <td>535</td>\n",
       "      <td>7631</td>\n",
       "      <td>...</td>\n",
       "      <td>Si fa presente che 25 dei ricoveri NON UTI, so...</td>\n",
       "      <td>6</td>\n",
       "      <td>NaN</td>\n",
       "      <td>NaN</td>\n",
       "      <td>40959.0</td>\n",
       "      <td>0.0</td>\n",
       "      <td>647762.0</td>\n",
       "      <td>83904.0</td>\n",
       "      <td>ITI</td>\n",
       "      <td>ITI2</td>\n",
       "    </tr>\n",
       "    <tr>\n",
       "      <th>19</th>\n",
       "      <td>2021-02-14T17:00:00</td>\n",
       "      <td>ITA</td>\n",
       "      <td>2</td>\n",
       "      <td>Valle d'Aosta</td>\n",
       "      <td>45.737503</td>\n",
       "      <td>7.320149</td>\n",
       "      <td>13</td>\n",
       "      <td>2</td>\n",
       "      <td>15</td>\n",
       "      <td>122</td>\n",
       "      <td>...</td>\n",
       "      <td>NaN</td>\n",
       "      <td>0</td>\n",
       "      <td>NaN</td>\n",
       "      <td>NaN</td>\n",
       "      <td>7909.0</td>\n",
       "      <td>0.0</td>\n",
       "      <td>71565.0</td>\n",
       "      <td>2220.0</td>\n",
       "      <td>ITC</td>\n",
       "      <td>ITC2</td>\n",
       "    </tr>\n",
       "    <tr>\n",
       "      <th>20</th>\n",
       "      <td>2021-02-14T17:00:00</td>\n",
       "      <td>ITA</td>\n",
       "      <td>5</td>\n",
       "      <td>Veneto</td>\n",
       "      <td>45.434905</td>\n",
       "      <td>12.338452</td>\n",
       "      <td>927</td>\n",
       "      <td>113</td>\n",
       "      <td>1040</td>\n",
       "      <td>23774</td>\n",
       "      <td>...</td>\n",
       "      <td>Nei valori riportati per le terapie intensive ...</td>\n",
       "      <td>8</td>\n",
       "      <td>NaN</td>\n",
       "      <td>NaN</td>\n",
       "      <td>319142.0</td>\n",
       "      <td>2333.0</td>\n",
       "      <td>3891480.0</td>\n",
       "      <td>682364.0</td>\n",
       "      <td>ITH</td>\n",
       "      <td>ITH3</td>\n",
       "    </tr>\n",
       "  </tbody>\n",
       "</table>\n",
       "<p>966 rows × 30 columns</p>\n",
       "</div>"
      ],
      "text/plain": [
       "                   data stato  codice_regione denominazione_regione  \\\n",
       "0   2020-12-31T17:00:00   ITA              13               Abruzzo   \n",
       "1   2020-12-31T17:00:00   ITA              17            Basilicata   \n",
       "2   2020-12-31T17:00:00   ITA              18              Calabria   \n",
       "3   2020-12-31T17:00:00   ITA              15              Campania   \n",
       "4   2020-12-31T17:00:00   ITA               8        Emilia-Romagna   \n",
       "..                  ...   ...             ...                   ...   \n",
       "16  2021-02-14T17:00:00   ITA              19               Sicilia   \n",
       "17  2021-02-14T17:00:00   ITA               9               Toscana   \n",
       "18  2021-02-14T17:00:00   ITA              10                Umbria   \n",
       "19  2021-02-14T17:00:00   ITA               2         Valle d'Aosta   \n",
       "20  2021-02-14T17:00:00   ITA               5                Veneto   \n",
       "\n",
       "          lat       long  ricoverati_con_sintomi  terapia_intensiva  \\\n",
       "0   42.351222  13.398438                     430                 35   \n",
       "1   40.639471  15.805148                      89                  4   \n",
       "2   38.905976  16.594402                     243                 18   \n",
       "3   40.839566  14.250850                    1325                113   \n",
       "4   44.494367  11.341721                    2629                233   \n",
       "..        ...        ...                     ...                ...   \n",
       "16  38.115697  13.362357                    1030                165   \n",
       "17  43.769231  11.255889                     693                130   \n",
       "18  43.106758  12.388247                     451                 84   \n",
       "19  45.737503   7.320149                      13                  2   \n",
       "20  45.434905  12.338452                     927                113   \n",
       "\n",
       "    totale_ospedalizzati  isolamento_domiciliare  ...  \\\n",
       "0                    465                   10608  ...   \n",
       "1                     93                    5958  ...   \n",
       "2                    261                    8556  ...   \n",
       "3                   1438                   75817  ...   \n",
       "4                   2862                   54484  ...   \n",
       "..                   ...                     ...  ...   \n",
       "16                  1195                   33671  ...   \n",
       "17                   823                   11342  ...   \n",
       "18                   535                    7631  ...   \n",
       "19                    15                     122  ...   \n",
       "20                  1040                   23774  ...   \n",
       "\n",
       "                                                 note  \\\n",
       "0                                                 NaN   \n",
       "1   N. 7 decessi sono da attribuire a casi positiv...   \n",
       "2                                                 NaN   \n",
       "3                                                 NaN   \n",
       "4                                                 NaN   \n",
       "..                                                ...   \n",
       "16                                                NaN   \n",
       "17                                                NaN   \n",
       "18  Si fa presente che 25 dei ricoveri NON UTI, so...   \n",
       "19                                                NaN   \n",
       "20  Nei valori riportati per le terapie intensive ...   \n",
       "\n",
       "    ingressi_terapia_intensiva  note_test  note_casi  \\\n",
       "0                            3        NaN        NaN   \n",
       "1                            0        NaN        NaN   \n",
       "2                            2        NaN        NaN   \n",
       "3                           15        NaN        NaN   \n",
       "4                           20        NaN        NaN   \n",
       "..                         ...        ...        ...   \n",
       "16                           5        NaN        NaN   \n",
       "17                           6        NaN        NaN   \n",
       "18                           6        NaN        NaN   \n",
       "19                           0        NaN        NaN   \n",
       "20                           8        NaN        NaN   \n",
       "\n",
       "    totale_positivi_test_molecolare  totale_positivi_test_antigenico_rapido  \\\n",
       "0                               NaN                                     NaN   \n",
       "1                               NaN                                     NaN   \n",
       "2                               NaN                                     NaN   \n",
       "3                               NaN                                     NaN   \n",
       "4                               NaN                                     NaN   \n",
       "..                              ...                                     ...   \n",
       "16                         145744.0                                     0.0   \n",
       "17                         143070.0                                   305.0   \n",
       "18                          40959.0                                     0.0   \n",
       "19                           7909.0                                     0.0   \n",
       "20                         319142.0                                  2333.0   \n",
       "\n",
       "    tamponi_test_molecolare  tamponi_test_antigenico_rapido  codice_nuts_1  \\\n",
       "0                       NaN                             NaN            NaN   \n",
       "1                       NaN                             NaN            NaN   \n",
       "2                       NaN                             NaN            NaN   \n",
       "3                       NaN                             NaN            NaN   \n",
       "4                       NaN                             NaN            NaN   \n",
       "..                      ...                             ...            ...   \n",
       "16                1630116.0                        485565.0            ITG   \n",
       "17                2291264.0                        166807.0            ITI   \n",
       "18                 647762.0                         83904.0            ITI   \n",
       "19                  71565.0                          2220.0            ITC   \n",
       "20                3891480.0                        682364.0            ITH   \n",
       "\n",
       "    codice_nuts_2  \n",
       "0             NaN  \n",
       "1             NaN  \n",
       "2             NaN  \n",
       "3             NaN  \n",
       "4             NaN  \n",
       "..            ...  \n",
       "16           ITG1  \n",
       "17           ITI1  \n",
       "18           ITI2  \n",
       "19           ITC2  \n",
       "20           ITH3  \n",
       "\n",
       "[966 rows x 30 columns]"
      ]
     },
     "execution_count": 34,
     "metadata": {},
     "output_type": "execute_result"
    }
   ],
   "source": [
    "df.iloc[21:,:]"
   ]
  },
  {
   "cell_type": "code",
   "execution_count": 35,
   "metadata": {},
   "outputs": [],
   "source": [
    "df = df[df['codice_regione'].map(lambda x :len(str(x)) < 3)]\n",
    "    #rename regions\n",
    "df['denominazione_regione'] = df['denominazione_regione'].mask(df['denominazione_regione']=='P.A. Bolzano', 'Trentino-Alto Adige')\n",
    "df['denominazione_regione'] = df['denominazione_regione'].mask(df['denominazione_regione']=='P.A. Trento', 'Trentino-Alto Adige')"
   ]
  },
  {
   "cell_type": "code",
   "execution_count": 36,
   "metadata": {},
   "outputs": [],
   "source": [
    "regioni = pd.concat([regioni,df.iloc[21:,:]],axis = 0) "
   ]
  },
  {
   "cell_type": "markdown",
   "metadata": {},
   "source": [
    "## finally updated to the 15-feb-21"
   ]
  },
  {
   "cell_type": "code",
   "execution_count": 41,
   "metadata": {},
   "outputs": [],
   "source": [
    "regioni = regioni.iloc[:,2:]"
   ]
  },
  {
   "cell_type": "code",
   "execution_count": null,
   "metadata": {},
   "outputs": [],
   "source": [
    "regioni"
   ]
  },
  {
   "cell_type": "code",
   "execution_count": 96,
   "metadata": {},
   "outputs": [],
   "source": [
    "#regioni = update_regioni(regioni , '20201122')\n",
    "reg.to_csv('covid_regioni.csv')"
   ]
  },
  {
   "cell_type": "markdown",
   "metadata": {},
   "source": [
    "if data not on disk create :"
   ]
  },
  {
   "cell_type": "code",
   "execution_count": 55,
   "metadata": {},
   "outputs": [],
   "source": [
    "shape_ = create_regioni_shape() \n",
    "popolazione = create_popolazione()\n",
    "italy = create_italy()"
   ]
  },
  {
   "cell_type": "code",
   "execution_count": 97,
   "metadata": {},
   "outputs": [
    {
     "data": {
      "text/html": [
       "<div>\n",
       "<style scoped>\n",
       "    .dataframe tbody tr th:only-of-type {\n",
       "        vertical-align: middle;\n",
       "    }\n",
       "\n",
       "    .dataframe tbody tr th {\n",
       "        vertical-align: top;\n",
       "    }\n",
       "\n",
       "    .dataframe thead th {\n",
       "        text-align: right;\n",
       "    }\n",
       "</style>\n",
       "<table border=\"1\" class=\"dataframe\">\n",
       "  <thead>\n",
       "    <tr style=\"text-align: right;\">\n",
       "      <th></th>\n",
       "      <th>denominazione_regione</th>\n",
       "      <th>geometry</th>\n",
       "      <th>popolazione</th>\n",
       "    </tr>\n",
       "  </thead>\n",
       "  <tbody>\n",
       "    <tr>\n",
       "      <th>0</th>\n",
       "      <td>Piemonte</td>\n",
       "      <td>MULTIPOLYGON (((8.44975964324396 46.4617640290...</td>\n",
       "      <td>4356406</td>\n",
       "    </tr>\n",
       "    <tr>\n",
       "      <th>1</th>\n",
       "      <td>Valle d'Aosta</td>\n",
       "      <td>MULTIPOLYGON (((7.588571915813588 45.970750850...</td>\n",
       "      <td>125666</td>\n",
       "    </tr>\n",
       "    <tr>\n",
       "      <th>2</th>\n",
       "      <td>Lombardia</td>\n",
       "      <td>MULTIPOLYGON (((10.24929849041003 46.618381793...</td>\n",
       "      <td>10060574</td>\n",
       "    </tr>\n",
       "    <tr>\n",
       "      <th>3</th>\n",
       "      <td>Trentino-Alto Adige</td>\n",
       "      <td>MULTIPOLYGON (((12.20554426101755 47.086368287...</td>\n",
       "      <td>1072276</td>\n",
       "    </tr>\n",
       "    <tr>\n",
       "      <th>4</th>\n",
       "      <td>Veneto</td>\n",
       "      <td>MULTIPOLYGON (((12.50590532016695 46.678391366...</td>\n",
       "      <td>4905854</td>\n",
       "    </tr>\n",
       "  </tbody>\n",
       "</table>\n",
       "</div>"
      ],
      "text/plain": [
       "  denominazione_regione                                           geometry  \\\n",
       "0              Piemonte  MULTIPOLYGON (((8.44975964324396 46.4617640290...   \n",
       "1         Valle d'Aosta  MULTIPOLYGON (((7.588571915813588 45.970750850...   \n",
       "2             Lombardia  MULTIPOLYGON (((10.24929849041003 46.618381793...   \n",
       "3   Trentino-Alto Adige  MULTIPOLYGON (((12.20554426101755 47.086368287...   \n",
       "4                Veneto  MULTIPOLYGON (((12.50590532016695 46.678391366...   \n",
       "\n",
       "   popolazione  \n",
       "0      4356406  \n",
       "1       125666  \n",
       "2     10060574  \n",
       "3      1072276  \n",
       "4      4905854  "
      ]
     },
     "execution_count": 97,
     "metadata": {},
     "output_type": "execute_result"
    }
   ],
   "source": [
    "italy.head()"
   ]
  },
  {
   "cell_type": "code",
   "execution_count": 56,
   "metadata": {},
   "outputs": [],
   "source": [
    "italy.to_csv('italy.csv')"
   ]
  },
  {
   "cell_type": "markdown",
   "metadata": {},
   "source": [
    "### determine which daterange you want to include "
   ]
  },
  {
   "cell_type": "code",
   "execution_count": 8,
   "metadata": {},
   "outputs": [],
   "source": [
    "daterange = pd.date_range(start = '20200306',end='20201201')\n",
    "days = []\n",
    "\n",
    "for x in daterange:\n",
    "    dd = '0'+str(x.day)\n",
    "    mm = '0'+str(x.month)\n",
    "    days.append(mm[-2:]+dd[-2:])"
   ]
  },
  {
   "cell_type": "markdown",
   "metadata": {},
   "source": [
    "If this file does not exist "
   ]
  },
  {
   "cell_type": "code",
   "execution_count": 9,
   "metadata": {},
   "outputs": [
    {
     "name": "stdout",
     "output_type": "stream",
     "text": [
      "Wall time: 1min 27s\n"
     ]
    }
   ],
   "source": [
    "%%time\n",
    "df_regioni = create_df_regioni(days)"
   ]
  },
  {
   "cell_type": "code",
   "execution_count": 10,
   "metadata": {},
   "outputs": [],
   "source": [
    "df_regioni.to_csv('covid_regioni.csv')"
   ]
  },
  {
   "cell_type": "markdown",
   "metadata": {},
   "source": [
    "### Explore data"
   ]
  },
  {
   "cell_type": "code",
   "execution_count": 20,
   "metadata": {},
   "outputs": [
    {
     "data": {
      "text/plain": [
       "Unnamed: 0                                       5690\n",
       "Unnamed: 0.1                                       20\n",
       "stato                                             ITA\n",
       "codice_regione                                     22\n",
       "denominazione_regione                          Veneto\n",
       "lat                                           46.4993\n",
       "long                                          16.8674\n",
       "ricoverati_con_sintomi                          12077\n",
       "terapia_intensiva                                1381\n",
       "totale_ospedalizzati                            13328\n",
       "isolamento_domiciliare                         155066\n",
       "totale_positivi                                164406\n",
       "variazione_totale_positivi                      10263\n",
       "nuovi_positivi                                  11489\n",
       "dimessi_guariti                                535077\n",
       "deceduti                                        29093\n",
       "casi_da_sospetto_diagnostico                   305002\n",
       "casi_da_screening                              113150\n",
       "totale_casi                                    656895\n",
       "tamponi                                       7229002\n",
       "casi_testati                              3.28052e+06\n",
       "ingressi_terapia_intensiva                         78\n",
       "totale_positivi_test_molecolare                638816\n",
       "totale_positivi_test_antigenico_rapido          18079\n",
       "tamponi_test_molecolare                    6.6486e+06\n",
       "tamponi_test_antigenico_rapido            1.26017e+06\n",
       "dtype: object"
      ]
     },
     "execution_count": 20,
     "metadata": {},
     "output_type": "execute_result"
    }
   ],
   "source": [
    "regioni.max()\n"
   ]
  },
  {
   "cell_type": "code",
   "execution_count": 9,
   "metadata": {
    "jupyter": {
     "source_hidden": true
    }
   },
   "outputs": [
    {
     "data": {
      "text/html": [
       "<div>\n",
       "<style scoped>\n",
       "    .dataframe tbody tr th:only-of-type {\n",
       "        vertical-align: middle;\n",
       "    }\n",
       "\n",
       "    .dataframe tbody tr th {\n",
       "        vertical-align: top;\n",
       "    }\n",
       "\n",
       "    .dataframe thead th {\n",
       "        text-align: right;\n",
       "    }\n",
       "</style>\n",
       "<table border=\"1\" class=\"dataframe\">\n",
       "  <thead>\n",
       "    <tr style=\"text-align: right;\">\n",
       "      <th></th>\n",
       "      <th>nuovi_positivi</th>\n",
       "      <th>terapia_intensiva</th>\n",
       "      <th>deceduti</th>\n",
       "      <th>dimessi_guariti</th>\n",
       "    </tr>\n",
       "  </thead>\n",
       "  <tbody>\n",
       "    <tr>\n",
       "      <th>mean</th>\n",
       "      <td>251.097022</td>\n",
       "      <td>50.787587</td>\n",
       "      <td>1446.565186</td>\n",
       "      <td>8158.462101</td>\n",
       "    </tr>\n",
       "    <tr>\n",
       "      <th>std</th>\n",
       "      <td>785.112152</td>\n",
       "      <td>129.223418</td>\n",
       "      <td>3307.061468</td>\n",
       "      <td>16047.424596</td>\n",
       "    </tr>\n",
       "    <tr>\n",
       "      <th>max</th>\n",
       "      <td>11489.000000</td>\n",
       "      <td>1381.000000</td>\n",
       "      <td>20524.000000</td>\n",
       "      <td>186680.000000</td>\n",
       "    </tr>\n",
       "  </tbody>\n",
       "</table>\n",
       "</div>"
      ],
      "text/plain": [
       "      nuovi_positivi  terapia_intensiva      deceduti  dimessi_guariti\n",
       "mean      251.097022          50.787587   1446.565186      8158.462101\n",
       "std       785.112152         129.223418   3307.061468     16047.424596\n",
       "max     11489.000000        1381.000000  20524.000000    186680.000000"
      ]
     },
     "execution_count": 9,
     "metadata": {},
     "output_type": "execute_result"
    }
   ],
   "source": [
    "regioni.describe().loc[['mean','std','max'],['nuovi_positivi','terapia_intensiva','deceduti','dimessi_guariti']]"
   ]
  },
  {
   "cell_type": "code",
   "execution_count": 12,
   "metadata": {
    "jupyter": {
     "source_hidden": true
    }
   },
   "outputs": [],
   "source": [
    "#regioni.data = pd.to_datetime(regioni.data)\n",
    "#regioni.set_index('data',inplace = True)"
   ]
  },
  {
   "cell_type": "code",
   "execution_count": 22,
   "metadata": {},
   "outputs": [
    {
     "data": {
      "text/html": [
       "<div>\n",
       "<style scoped>\n",
       "    .dataframe tbody tr th:only-of-type {\n",
       "        vertical-align: middle;\n",
       "    }\n",
       "\n",
       "    .dataframe tbody tr th {\n",
       "        vertical-align: top;\n",
       "    }\n",
       "\n",
       "    .dataframe thead th {\n",
       "        text-align: right;\n",
       "    }\n",
       "</style>\n",
       "<table border=\"1\" class=\"dataframe\">\n",
       "  <thead>\n",
       "    <tr style=\"text-align: right;\">\n",
       "      <th></th>\n",
       "      <th>Unnamed: 0</th>\n",
       "      <th>Unnamed: 0.1</th>\n",
       "      <th>data</th>\n",
       "      <th>stato</th>\n",
       "      <th>codice_regione</th>\n",
       "      <th>denominazione_regione</th>\n",
       "      <th>lat</th>\n",
       "      <th>long</th>\n",
       "      <th>ricoverati_con_sintomi</th>\n",
       "      <th>terapia_intensiva</th>\n",
       "      <th>...</th>\n",
       "      <th>note</th>\n",
       "      <th>ingressi_terapia_intensiva</th>\n",
       "      <th>note_test</th>\n",
       "      <th>note_casi</th>\n",
       "      <th>totale_positivi_test_molecolare</th>\n",
       "      <th>totale_positivi_test_antigenico_rapido</th>\n",
       "      <th>tamponi_test_molecolare</th>\n",
       "      <th>tamponi_test_antigenico_rapido</th>\n",
       "      <th>codice_nuts_1</th>\n",
       "      <th>codice_nuts_2</th>\n",
       "    </tr>\n",
       "  </thead>\n",
       "  <tbody>\n",
       "    <tr>\n",
       "      <th>0</th>\n",
       "      <td>0.0</td>\n",
       "      <td>0.0</td>\n",
       "      <td>2020-03-06 17:00:00</td>\n",
       "      <td>ITA</td>\n",
       "      <td>13</td>\n",
       "      <td>Abruzzo</td>\n",
       "      <td>42.351222</td>\n",
       "      <td>13.398438</td>\n",
       "      <td>9</td>\n",
       "      <td>0</td>\n",
       "      <td>...</td>\n",
       "      <td>NaN</td>\n",
       "      <td>NaN</td>\n",
       "      <td>NaN</td>\n",
       "      <td>NaN</td>\n",
       "      <td>NaN</td>\n",
       "      <td>NaN</td>\n",
       "      <td>NaN</td>\n",
       "      <td>NaN</td>\n",
       "      <td>NaN</td>\n",
       "      <td>NaN</td>\n",
       "    </tr>\n",
       "    <tr>\n",
       "      <th>1</th>\n",
       "      <td>1.0</td>\n",
       "      <td>1.0</td>\n",
       "      <td>2020-03-06 17:00:00</td>\n",
       "      <td>ITA</td>\n",
       "      <td>17</td>\n",
       "      <td>Basilicata</td>\n",
       "      <td>40.639471</td>\n",
       "      <td>15.805148</td>\n",
       "      <td>1</td>\n",
       "      <td>0</td>\n",
       "      <td>...</td>\n",
       "      <td>NaN</td>\n",
       "      <td>NaN</td>\n",
       "      <td>NaN</td>\n",
       "      <td>NaN</td>\n",
       "      <td>NaN</td>\n",
       "      <td>NaN</td>\n",
       "      <td>NaN</td>\n",
       "      <td>NaN</td>\n",
       "      <td>NaN</td>\n",
       "      <td>NaN</td>\n",
       "    </tr>\n",
       "    <tr>\n",
       "      <th>2</th>\n",
       "      <td>2.0</td>\n",
       "      <td>2.0</td>\n",
       "      <td>2020-03-06 17:00:00</td>\n",
       "      <td>ITA</td>\n",
       "      <td>18</td>\n",
       "      <td>Calabria</td>\n",
       "      <td>38.905976</td>\n",
       "      <td>16.594402</td>\n",
       "      <td>2</td>\n",
       "      <td>0</td>\n",
       "      <td>...</td>\n",
       "      <td>NaN</td>\n",
       "      <td>NaN</td>\n",
       "      <td>NaN</td>\n",
       "      <td>NaN</td>\n",
       "      <td>NaN</td>\n",
       "      <td>NaN</td>\n",
       "      <td>NaN</td>\n",
       "      <td>NaN</td>\n",
       "      <td>NaN</td>\n",
       "      <td>NaN</td>\n",
       "    </tr>\n",
       "    <tr>\n",
       "      <th>3</th>\n",
       "      <td>3.0</td>\n",
       "      <td>3.0</td>\n",
       "      <td>2020-03-06 17:00:00</td>\n",
       "      <td>ITA</td>\n",
       "      <td>15</td>\n",
       "      <td>Campania</td>\n",
       "      <td>40.839566</td>\n",
       "      <td>14.250850</td>\n",
       "      <td>12</td>\n",
       "      <td>0</td>\n",
       "      <td>...</td>\n",
       "      <td>NaN</td>\n",
       "      <td>NaN</td>\n",
       "      <td>NaN</td>\n",
       "      <td>NaN</td>\n",
       "      <td>NaN</td>\n",
       "      <td>NaN</td>\n",
       "      <td>NaN</td>\n",
       "      <td>NaN</td>\n",
       "      <td>NaN</td>\n",
       "      <td>NaN</td>\n",
       "    </tr>\n",
       "    <tr>\n",
       "      <th>4</th>\n",
       "      <td>4.0</td>\n",
       "      <td>4.0</td>\n",
       "      <td>2020-03-06 17:00:00</td>\n",
       "      <td>ITA</td>\n",
       "      <td>8</td>\n",
       "      <td>Emilia-Romagna</td>\n",
       "      <td>44.494367</td>\n",
       "      <td>11.341721</td>\n",
       "      <td>397</td>\n",
       "      <td>53</td>\n",
       "      <td>...</td>\n",
       "      <td>NaN</td>\n",
       "      <td>NaN</td>\n",
       "      <td>NaN</td>\n",
       "      <td>NaN</td>\n",
       "      <td>NaN</td>\n",
       "      <td>NaN</td>\n",
       "      <td>NaN</td>\n",
       "      <td>NaN</td>\n",
       "      <td>NaN</td>\n",
       "      <td>NaN</td>\n",
       "    </tr>\n",
       "  </tbody>\n",
       "</table>\n",
       "<p>5 rows × 32 columns</p>\n",
       "</div>"
      ],
      "text/plain": [
       "   Unnamed: 0  Unnamed: 0.1                 data stato  codice_regione  \\\n",
       "0         0.0           0.0  2020-03-06 17:00:00   ITA              13   \n",
       "1         1.0           1.0  2020-03-06 17:00:00   ITA              17   \n",
       "2         2.0           2.0  2020-03-06 17:00:00   ITA              18   \n",
       "3         3.0           3.0  2020-03-06 17:00:00   ITA              15   \n",
       "4         4.0           4.0  2020-03-06 17:00:00   ITA               8   \n",
       "\n",
       "  denominazione_regione        lat       long  ricoverati_con_sintomi  \\\n",
       "0               Abruzzo  42.351222  13.398438                       9   \n",
       "1            Basilicata  40.639471  15.805148                       1   \n",
       "2              Calabria  38.905976  16.594402                       2   \n",
       "3              Campania  40.839566  14.250850                      12   \n",
       "4        Emilia-Romagna  44.494367  11.341721                     397   \n",
       "\n",
       "   terapia_intensiva  ...  note  ingressi_terapia_intensiva  note_test  \\\n",
       "0                  0  ...   NaN                         NaN        NaN   \n",
       "1                  0  ...   NaN                         NaN        NaN   \n",
       "2                  0  ...   NaN                         NaN        NaN   \n",
       "3                  0  ...   NaN                         NaN        NaN   \n",
       "4                 53  ...   NaN                         NaN        NaN   \n",
       "\n",
       "   note_casi  totale_positivi_test_molecolare  \\\n",
       "0        NaN                              NaN   \n",
       "1        NaN                              NaN   \n",
       "2        NaN                              NaN   \n",
       "3        NaN                              NaN   \n",
       "4        NaN                              NaN   \n",
       "\n",
       "   totale_positivi_test_antigenico_rapido  tamponi_test_molecolare  \\\n",
       "0                                     NaN                      NaN   \n",
       "1                                     NaN                      NaN   \n",
       "2                                     NaN                      NaN   \n",
       "3                                     NaN                      NaN   \n",
       "4                                     NaN                      NaN   \n",
       "\n",
       "   tamponi_test_antigenico_rapido  codice_nuts_1  codice_nuts_2  \n",
       "0                             NaN            NaN            NaN  \n",
       "1                             NaN            NaN            NaN  \n",
       "2                             NaN            NaN            NaN  \n",
       "3                             NaN            NaN            NaN  \n",
       "4                             NaN            NaN            NaN  \n",
       "\n",
       "[5 rows x 32 columns]"
      ]
     },
     "execution_count": 22,
     "metadata": {},
     "output_type": "execute_result"
    }
   ],
   "source": [
    "regioni.head()"
   ]
  },
  {
   "cell_type": "code",
   "execution_count": 85,
   "metadata": {},
   "outputs": [],
   "source": [
    "data = reg.groupby('data')['nuovi_positivi'].sum()"
   ]
  },
  {
   "cell_type": "code",
   "execution_count": 86,
   "metadata": {},
   "outputs": [
    {
     "data": {
      "text/plain": [
       "40902"
      ]
     },
     "execution_count": 86,
     "metadata": {},
     "output_type": "execute_result"
    }
   ],
   "source": [
    "data.max()"
   ]
  },
  {
   "cell_type": "code",
   "execution_count": 87,
   "metadata": {},
   "outputs": [
    {
     "data": {
      "text/plain": [
       "<BarContainer object of 347 artists>"
      ]
     },
     "execution_count": 87,
     "metadata": {},
     "output_type": "execute_result"
    },
    {
     "data": {
      "image/png": "[encoded data removed]",
      "text/plain": [
       "<Figure size 432x288 with 1 Axes>"
      ]
     },
     "metadata": {},
     "output_type": "display_data"
    }
   ],
   "source": [
    "plt.bar(data.index , data.values, width = 1.0 )#, color = colors)"
   ]
  },
  {
   "cell_type": "code",
   "execution_count": 90,
   "metadata": {},
   "outputs": [
    {
     "data": {
      "text/plain": [
       "21"
      ]
     },
     "execution_count": 90,
     "metadata": {},
     "output_type": "execute_result"
    }
   ],
   "source": [
    "reg.groupby('data')['totale_ospedalizzati'].count().max()"
   ]
  },
  {
   "cell_type": "code",
   "execution_count": 47,
   "metadata": {},
   "outputs": [
    {
     "data": {
      "text/plain": [
       "Unnamed: 0                                                342\n",
       "Unnamed: 0.1                                                6\n",
       "data                                      2020-03-22 17:00:00\n",
       "stato                                                     ITA\n",
       "codice_regione                                             12\n",
       "denominazione_regione                                   Lazio\n",
       "lat                                                   41.8928\n",
       "long                                                  12.4837\n",
       "ricoverati_con_sintomi                                    671\n",
       "terapia_intensiva                                          79\n",
       "totale_ospedalizzati                                      750\n",
       "isolamento_domiciliare                                    522\n",
       "totale_positivi                                          1272\n",
       "variazione_totale_positivi                                186\n",
       "nuovi_positivi                                            193\n",
       "dimessi_guariti                                            58\n",
       "deceduti                                                   53\n",
       "casi_da_sospetto_diagnostico                              NaN\n",
       "casi_da_screening                                         NaN\n",
       "totale_casi                                              1383\n",
       "tamponi                                                 17845\n",
       "casi_testati                                              NaN\n",
       "note                                                      NaN\n",
       "ingressi_terapia_intensiva                                NaN\n",
       "note_test                                                 NaN\n",
       "note_casi                                                 NaN\n",
       "totale_positivi_test_molecolare                           NaN\n",
       "totale_positivi_test_antigenico_rapido                    NaN\n",
       "tamponi_test_molecolare                                   NaN\n",
       "tamponi_test_antigenico_rapido                            NaN\n",
       "codice_nuts_1                                             NaN\n",
       "codice_nuts_2                                             NaN\n",
       "Name: 342, dtype: object"
      ]
     },
     "execution_count": 47,
     "metadata": {},
     "output_type": "execute_result"
    }
   ],
   "source": [
    "regioni.iloc[342,:]"
   ]
  },
  {
   "cell_type": "code",
   "execution_count": null,
   "metadata": {},
   "outputs": [],
   "source": []
  },
  {
   "cell_type": "markdown",
   "metadata": {},
   "source": [
    "# Charts : Hospitalized , New Positive , Deceased , Dismissed"
   ]
  },
  {
   "cell_type": "markdown",
   "metadata": {},
   "source": [
    "### Hositalized"
   ]
  },
  {
   "cell_type": "code",
   "execution_count": 91,
   "metadata": {},
   "outputs": [],
   "source": [
    "def barchart(title = 'nuovi_positivi' , color_map = 'viridis'):\n",
    "    data = reg.groupby('data')[title].sum() \n",
    "    \n",
    "    clr = sns.color_palette(color_map , n_colors =1+ data.values.max())\n",
    "    colors = [clr[x] for x in data.values]\n",
    "    labels = [str(x)[8:10]+str(x)[4:7] for x in data.index[[30*i for i in range(1+(data.shape[0]//30))]]]\n",
    "    fg , ax = plt.subplots(figsize = (16,5))\n",
    "    #plt.xticks(ticks= [31*x for x in range(0,1+ospedalizzati.shape[0]//31)],rotation = 45)\n",
    "    plt.grid(color = 'grey')\n",
    "    plt.xticks([31*i for i in range(1+(data.shape[0]//31))] , labels=labels)\n",
    "    plt.bar(data.index , data.values, width = 1.0 , color = colors)\n",
    "    \n",
    "    plt.title(label= title , fontdict ={'fontsize':'xx-large'})"
   ]
  },
  {
   "cell_type": "code",
   "execution_count": null,
   "metadata": {},
   "outputs": [],
   "source": []
  },
  {
   "cell_type": "code",
   "execution_count": 92,
   "metadata": {},
   "outputs": [
    {
     "data": {
      "image/png": "[encoded data removed]",
      "text/plain": [
       "<Figure size 1152x360 with 1 Axes>"
      ]
     },
     "metadata": {},
     "output_type": "display_data"
    }
   ],
   "source": [
    "barchart('totale_ospedalizzati',  'rocket')"
   ]
  },
  {
   "cell_type": "markdown",
   "metadata": {},
   "source": [
    "### New Positives"
   ]
  },
  {
   "cell_type": "code",
   "execution_count": 93,
   "metadata": {},
   "outputs": [
    {
     "data": {
      "image/png": "[encoded data removed]",
      "text/plain": [
       "<Figure size 1152x360 with 1 Axes>"
      ]
     },
     "metadata": {},
     "output_type": "display_data"
    }
   ],
   "source": [
    "barchart('nuovi_positivi',  'viridis')"
   ]
  },
  {
   "cell_type": "markdown",
   "metadata": {},
   "source": [
    "### Cumulative Deceased"
   ]
  },
  {
   "cell_type": "code",
   "execution_count": 94,
   "metadata": {},
   "outputs": [
    {
     "data": {
      "image/png": "[encoded data removed]",
      "text/plain": [
       "<Figure size 1152x360 with 1 Axes>"
      ]
     },
     "metadata": {},
     "output_type": "display_data"
    }
   ],
   "source": [
    "barchart('deceduti', 'Oranges')"
   ]
  },
  {
   "cell_type": "markdown",
   "metadata": {},
   "source": [
    "### Cumulative Dismissed"
   ]
  },
  {
   "cell_type": "code",
   "execution_count": 95,
   "metadata": {},
   "outputs": [
    {
     "data": {
      "image/png": "[encoded data removed]",
      "text/plain": [
       "<Figure size 1152x360 with 1 Axes>"
      ]
     },
     "metadata": {},
     "output_type": "display_data"
    }
   ],
   "source": [
    "barchart('dimessi_guariti','cool')"
   ]
  },
  {
   "cell_type": "markdown",
   "metadata": {},
   "source": [
    "### Possible colors"
   ]
  },
  {
   "cell_type": "markdown",
   "metadata": {},
   "source": [
    "Accent, Accent_r, Blues, Blues_r, BrBG, BrBG_r, BuGn, BuGn_r, BuPu, BuPu_r, CMRmap, CMRmap_r, Dark2, Dark2_r, GnBu, GnBu_r, Greens, Greens_r, Greys, Greys_r, OrRd, OrRd_r, Oranges, Oranges_r, PRGn, PRGn_r, Paired, Paired_r, Pastel1, Pastel1_r, Pastel2, Pastel2_r, PiYG, PiYG_r, PuBu, PuBuGn, PuBuGn_r, PuBu_r, PuOr, PuOr_r, PuRd, PuRd_r, Purples, Purples_r, RdBu, RdBu_r, RdGy, RdGy_r, RdPu, RdPu_r, RdYlBu, RdYlBu_r, RdYlGn, RdYlGn_r, Reds, Reds_r, Set1, Set1_r, Set2, Set2_r, Set3, Set3_r, Spectral, Spectral_r, Wistia, Wistia_r, YlGn, YlGnBu, YlGnBu_r, YlGn_r, YlOrBr, YlOrBr_r, YlOrRd, YlOrRd_r, afmhot, afmhot_r, autumn, autumn_r, binary, binary_r, bone, bone_r, brg, brg_r, bwr, bwr_r, cividis, cividis_r, cool, cool_r, coolwarm, coolwarm_r, copper, copper_r, cubehelix, cubehelix_r, flag, flag_r, gist_earth, gist_earth_r, gist_gray, gist_gray_r, gist_heat, gist_heat_r, gist_ncar, gist_ncar_r, gist_rainbow, gist_rainbow_r, gist_stern, gist_stern_r, gist_yarg, gist_yarg_r, gnuplot, gnuplot2, gnuplot2_r, gnuplot_r, gray, gray_r, hot, hot_r, hsv, hsv_r, icefire, icefire_r, inferno, inferno_r, jet, jet_r, magma, magma_r, mako, mako_r, nipy_spectral, nipy_spectral_r, ocean, ocean_r, pink, pink_r, plasma, plasma_r, prism, prism_r, rainbow, rainbow_r, rocket, rocket_r, seismic, seismic_r, spring, spring_r, summer, summer_r, tab10, tab10_r, tab20, tab20_r, tab20b, tab20b_r, tab20c, tab20c_r, terrain, terrain_r, twilight, twilight_r, twilight_shifted, twilight_shifted_r, viridis, viridis_r, vlag, vlag_r, winter, winter_r"
   ]
  },
  {
   "cell_type": "markdown",
   "metadata": {},
   "source": [
    "### Deceased per day"
   ]
  },
  {
   "cell_type": "code",
   "execution_count": 47,
   "metadata": {},
   "outputs": [],
   "source": [
    "deceduti = regioni.groupby('data')['deceduti'].sum() \n",
    "#ospedalizzati = regioni.groupby('data')['totale_ospedalizzati'].sum() "
   ]
  },
  {
   "cell_type": "code",
   "execution_count": 48,
   "metadata": {},
   "outputs": [
    {
     "data": {
      "text/plain": [
       "Index(['2020-03-06 17:00:00', '2020-03-07 18:00:00', '2020-03-08 18:00:00',\n",
       "       '2020-03-09 18:00:00', '2020-03-10 18:00:00', '2020-03-11 17:00:00',\n",
       "       '2020-03-12 17:00:00', '2020-03-13 17:00:00', '2020-03-14 17:00:00',\n",
       "       '2020-03-15 17:00:00',\n",
       "       ...\n",
       "       '2021-02-05T17:00:00', '2021-02-06T17:00:00', '2021-02-07T17:00:00',\n",
       "       '2021-02-08T17:00:00', '2021-02-09T17:00:00', '2021-02-10T17:00:00',\n",
       "       '2021-02-11T17:00:00', '2021-02-12T17:00:00', '2021-02-13T17:00:00',\n",
       "       '2021-02-14T17:00:00'],\n",
       "      dtype='object', name='data', length=346)"
      ]
     },
     "execution_count": 48,
     "metadata": {},
     "output_type": "execute_result"
    }
   ],
   "source": [
    "deceduti.index"
   ]
  },
  {
   "cell_type": "code",
   "execution_count": 32,
   "metadata": {},
   "outputs": [],
   "source": []
  },
  {
   "cell_type": "code",
   "execution_count": 49,
   "metadata": {},
   "outputs": [
    {
     "data": {
      "image/png": "[encoded data removed]",
      "text/plain": [
       "<Figure size 1152x360 with 1 Axes>"
      ]
     },
     "metadata": {
      "needs_background": "light"
     },
     "output_type": "display_data"
    }
   ],
   "source": [
    "data = np.insert(deceduti.values[1:] - deceduti.values[:-1],0,deceduti[0]) \n",
    "color_map = 'copper'\n",
    "clr = sns.color_palette(color_map , n_colors =1+ data.max())\n",
    "colors = [clr[x] for x in data]\n",
    "labels = [x[8:10]+x[4:7] for x in deceduti.index[[30*i for i in range(1+(data.shape[0]//30))]]]\n",
    "fg , ax = plt.subplots(figsize = (16,5))\n",
    "plt.grid(color = 'grey')\n",
    "plt.xticks([30*i for i in range(1+(data.shape[0]//30))] , labels=labels)\n",
    "plt.bar(np.arange(len(data)) , data, width = 1.0 , color = colors)\n",
    "plt.title(label= 'Deceased per day' , fontdict ={'fontsize':'xx-large'});"
   ]
  },
  {
   "cell_type": "markdown",
   "metadata": {},
   "source": [
    "# Map plot"
   ]
  },
  {
   "cell_type": "code",
   "execution_count": 50,
   "metadata": {},
   "outputs": [],
   "source": [
    "#taday is automatically set to yesteday\n",
    "#gdf[str(today)]\n",
    "\n",
    "def region_plot(df, day = '2020-02-10' ,save = True):\n",
    "    \n",
    "    df.data = pd.to_datetime(df.data)\n",
    "    df = df.set_index('data')\n",
    "    df = df[day]\n",
    "    df = df.groupby('denominazione_regione')['nuovi_positivi'].sum()\n",
    "    df = italy.merge(df, on ='denominazione_regione')\n",
    "    gdf = gpd.GeoDataFrame(df, geometry = df.geometry)\n",
    "    gdf['totale_casi per 1m abitanti'] = 1e6*gdf['nuovi_positivi'] // gdf['popolazione']\n",
    "    \n",
    "    fig, ax = plt.subplots(figsize= (12,8))\n",
    "    plt.xticks([])\n",
    "    plt.yticks([])\n",
    "    plt.title(f'Nuovi positivi per 1m abitanti \\n {day}')\n",
    "    \n",
    "    gdf.plot(column = 'totale_casi per 1m abitanti',\n",
    "                               cmap = 'inferno',\n",
    "                               vmax = 1000,\n",
    "                               vmin = 0,\n",
    "                               legend =True,\n",
    "                               ax = ax)\n",
    "    if save:\n",
    "        plt.savefig(fname = f'./images/it_cv{day}.png' ,format = 'png')"
   ]
  },
  {
   "cell_type": "code",
   "execution_count": 53,
   "metadata": {},
   "outputs": [
    {
     "ename": "KeyError",
     "evalue": "'2021-11-15'",
     "output_type": "error",
     "traceback": [
      "\u001b[1;31m---------------------------------------------------------------------------\u001b[0m",
      "\u001b[1;31mKeyError\u001b[0m                                  Traceback (most recent call last)",
      "\u001b[1;32m~\\anaconda3\\envs\\data\\lib\\site-packages\\pandas\\core\\indexes\\base.py\u001b[0m in \u001b[0;36mget_loc\u001b[1;34m(self, key, method, tolerance)\u001b[0m\n\u001b[0;32m   2645\u001b[0m             \u001b[1;32mtry\u001b[0m\u001b[1;33m:\u001b[0m\u001b[1;33m\u001b[0m\u001b[1;33m\u001b[0m\u001b[0m\n\u001b[1;32m-> 2646\u001b[1;33m                 \u001b[1;32mreturn\u001b[0m \u001b[0mself\u001b[0m\u001b[1;33m.\u001b[0m\u001b[0m_engine\u001b[0m\u001b[1;33m.\u001b[0m\u001b[0mget_loc\u001b[0m\u001b[1;33m(\u001b[0m\u001b[0mkey\u001b[0m\u001b[1;33m)\u001b[0m\u001b[1;33m\u001b[0m\u001b[1;33m\u001b[0m\u001b[0m\n\u001b[0m\u001b[0;32m   2647\u001b[0m             \u001b[1;32mexcept\u001b[0m \u001b[0mKeyError\u001b[0m\u001b[1;33m:\u001b[0m\u001b[1;33m\u001b[0m\u001b[1;33m\u001b[0m\u001b[0m\n",
      "\u001b[1;32mpandas\\_libs\\index.pyx\u001b[0m in \u001b[0;36mpandas._libs.index.IndexEngine.get_loc\u001b[1;34m()\u001b[0m\n",
      "\u001b[1;32mpandas\\_libs\\index.pyx\u001b[0m in \u001b[0;36mpandas._libs.index.IndexEngine.get_loc\u001b[1;34m()\u001b[0m\n",
      "\u001b[1;32mpandas\\_libs\\hashtable_class_helper.pxi\u001b[0m in \u001b[0;36mpandas._libs.hashtable.PyObjectHashTable.get_item\u001b[1;34m()\u001b[0m\n",
      "\u001b[1;32mpandas\\_libs\\hashtable_class_helper.pxi\u001b[0m in \u001b[0;36mpandas._libs.hashtable.PyObjectHashTable.get_item\u001b[1;34m()\u001b[0m\n",
      "\u001b[1;31mKeyError\u001b[0m: '2021-11-15'",
      "\nDuring handling of the above exception, another exception occurred:\n",
      "\u001b[1;31mKeyError\u001b[0m                                  Traceback (most recent call last)",
      "\u001b[1;32m<ipython-input-53-c4260bb77d4d>\u001b[0m in \u001b[0;36m<module>\u001b[1;34m\u001b[0m\n\u001b[1;32m----> 1\u001b[1;33m \u001b[0mregion_plot\u001b[0m\u001b[1;33m(\u001b[0m\u001b[0mregioni\u001b[0m \u001b[1;33m,\u001b[0m \u001b[1;34m'2021-11-15'\u001b[0m\u001b[1;33m,\u001b[0m \u001b[0msave\u001b[0m \u001b[1;33m=\u001b[0m \u001b[1;32mFalse\u001b[0m\u001b[1;33m)\u001b[0m\u001b[1;33m\u001b[0m\u001b[1;33m\u001b[0m\u001b[0m\n\u001b[0m",
      "\u001b[1;32m<ipython-input-50-3ddc9a4a876e>\u001b[0m in \u001b[0;36mregion_plot\u001b[1;34m(df, day, save)\u001b[0m\n\u001b[0;32m      6\u001b[0m     \u001b[0mdf\u001b[0m\u001b[1;33m.\u001b[0m\u001b[0mdata\u001b[0m \u001b[1;33m=\u001b[0m \u001b[0mpd\u001b[0m\u001b[1;33m.\u001b[0m\u001b[0mto_datetime\u001b[0m\u001b[1;33m(\u001b[0m\u001b[0mdf\u001b[0m\u001b[1;33m.\u001b[0m\u001b[0mdata\u001b[0m\u001b[1;33m)\u001b[0m\u001b[1;33m\u001b[0m\u001b[1;33m\u001b[0m\u001b[0m\n\u001b[0;32m      7\u001b[0m     \u001b[0mdf\u001b[0m \u001b[1;33m=\u001b[0m \u001b[0mdf\u001b[0m\u001b[1;33m.\u001b[0m\u001b[0mset_index\u001b[0m\u001b[1;33m(\u001b[0m\u001b[1;34m'data'\u001b[0m\u001b[1;33m)\u001b[0m\u001b[1;33m\u001b[0m\u001b[1;33m\u001b[0m\u001b[0m\n\u001b[1;32m----> 8\u001b[1;33m     \u001b[0mdf\u001b[0m \u001b[1;33m=\u001b[0m \u001b[0mdf\u001b[0m\u001b[1;33m[\u001b[0m\u001b[0mday\u001b[0m\u001b[1;33m]\u001b[0m\u001b[1;33m\u001b[0m\u001b[1;33m\u001b[0m\u001b[0m\n\u001b[0m\u001b[0;32m      9\u001b[0m     \u001b[0mdf\u001b[0m \u001b[1;33m=\u001b[0m \u001b[0mdf\u001b[0m\u001b[1;33m.\u001b[0m\u001b[0mgroupby\u001b[0m\u001b[1;33m(\u001b[0m\u001b[1;34m'denominazione_regione'\u001b[0m\u001b[1;33m)\u001b[0m\u001b[1;33m[\u001b[0m\u001b[1;34m'nuovi_positivi'\u001b[0m\u001b[1;33m]\u001b[0m\u001b[1;33m.\u001b[0m\u001b[0msum\u001b[0m\u001b[1;33m(\u001b[0m\u001b[1;33m)\u001b[0m\u001b[1;33m\u001b[0m\u001b[1;33m\u001b[0m\u001b[0m\n\u001b[0;32m     10\u001b[0m     \u001b[0mdf\u001b[0m \u001b[1;33m=\u001b[0m \u001b[0mitaly\u001b[0m\u001b[1;33m.\u001b[0m\u001b[0mmerge\u001b[0m\u001b[1;33m(\u001b[0m\u001b[0mdf\u001b[0m\u001b[1;33m,\u001b[0m \u001b[0mon\u001b[0m \u001b[1;33m=\u001b[0m\u001b[1;34m'denominazione_regione'\u001b[0m\u001b[1;33m)\u001b[0m\u001b[1;33m\u001b[0m\u001b[1;33m\u001b[0m\u001b[0m\n",
      "\u001b[1;32m~\\anaconda3\\envs\\data\\lib\\site-packages\\pandas\\core\\frame.py\u001b[0m in \u001b[0;36m__getitem__\u001b[1;34m(self, key)\u001b[0m\n\u001b[0;32m   2798\u001b[0m             \u001b[1;32mif\u001b[0m \u001b[0mself\u001b[0m\u001b[1;33m.\u001b[0m\u001b[0mcolumns\u001b[0m\u001b[1;33m.\u001b[0m\u001b[0mnlevels\u001b[0m \u001b[1;33m>\u001b[0m \u001b[1;36m1\u001b[0m\u001b[1;33m:\u001b[0m\u001b[1;33m\u001b[0m\u001b[1;33m\u001b[0m\u001b[0m\n\u001b[0;32m   2799\u001b[0m                 \u001b[1;32mreturn\u001b[0m \u001b[0mself\u001b[0m\u001b[1;33m.\u001b[0m\u001b[0m_getitem_multilevel\u001b[0m\u001b[1;33m(\u001b[0m\u001b[0mkey\u001b[0m\u001b[1;33m)\u001b[0m\u001b[1;33m\u001b[0m\u001b[1;33m\u001b[0m\u001b[0m\n\u001b[1;32m-> 2800\u001b[1;33m             \u001b[0mindexer\u001b[0m \u001b[1;33m=\u001b[0m \u001b[0mself\u001b[0m\u001b[1;33m.\u001b[0m\u001b[0mcolumns\u001b[0m\u001b[1;33m.\u001b[0m\u001b[0mget_loc\u001b[0m\u001b[1;33m(\u001b[0m\u001b[0mkey\u001b[0m\u001b[1;33m)\u001b[0m\u001b[1;33m\u001b[0m\u001b[1;33m\u001b[0m\u001b[0m\n\u001b[0m\u001b[0;32m   2801\u001b[0m             \u001b[1;32mif\u001b[0m \u001b[0mis_integer\u001b[0m\u001b[1;33m(\u001b[0m\u001b[0mindexer\u001b[0m\u001b[1;33m)\u001b[0m\u001b[1;33m:\u001b[0m\u001b[1;33m\u001b[0m\u001b[1;33m\u001b[0m\u001b[0m\n\u001b[0;32m   2802\u001b[0m                 \u001b[0mindexer\u001b[0m \u001b[1;33m=\u001b[0m \u001b[1;33m[\u001b[0m\u001b[0mindexer\u001b[0m\u001b[1;33m]\u001b[0m\u001b[1;33m\u001b[0m\u001b[1;33m\u001b[0m\u001b[0m\n",
      "\u001b[1;32m~\\anaconda3\\envs\\data\\lib\\site-packages\\pandas\\core\\indexes\\base.py\u001b[0m in \u001b[0;36mget_loc\u001b[1;34m(self, key, method, tolerance)\u001b[0m\n\u001b[0;32m   2646\u001b[0m                 \u001b[1;32mreturn\u001b[0m \u001b[0mself\u001b[0m\u001b[1;33m.\u001b[0m\u001b[0m_engine\u001b[0m\u001b[1;33m.\u001b[0m\u001b[0mget_loc\u001b[0m\u001b[1;33m(\u001b[0m\u001b[0mkey\u001b[0m\u001b[1;33m)\u001b[0m\u001b[1;33m\u001b[0m\u001b[1;33m\u001b[0m\u001b[0m\n\u001b[0;32m   2647\u001b[0m             \u001b[1;32mexcept\u001b[0m \u001b[0mKeyError\u001b[0m\u001b[1;33m:\u001b[0m\u001b[1;33m\u001b[0m\u001b[1;33m\u001b[0m\u001b[0m\n\u001b[1;32m-> 2648\u001b[1;33m                 \u001b[1;32mreturn\u001b[0m \u001b[0mself\u001b[0m\u001b[1;33m.\u001b[0m\u001b[0m_engine\u001b[0m\u001b[1;33m.\u001b[0m\u001b[0mget_loc\u001b[0m\u001b[1;33m(\u001b[0m\u001b[0mself\u001b[0m\u001b[1;33m.\u001b[0m\u001b[0m_maybe_cast_indexer\u001b[0m\u001b[1;33m(\u001b[0m\u001b[0mkey\u001b[0m\u001b[1;33m)\u001b[0m\u001b[1;33m)\u001b[0m\u001b[1;33m\u001b[0m\u001b[1;33m\u001b[0m\u001b[0m\n\u001b[0m\u001b[0;32m   2649\u001b[0m         \u001b[0mindexer\u001b[0m \u001b[1;33m=\u001b[0m \u001b[0mself\u001b[0m\u001b[1;33m.\u001b[0m\u001b[0mget_indexer\u001b[0m\u001b[1;33m(\u001b[0m\u001b[1;33m[\u001b[0m\u001b[0mkey\u001b[0m\u001b[1;33m]\u001b[0m\u001b[1;33m,\u001b[0m \u001b[0mmethod\u001b[0m\u001b[1;33m=\u001b[0m\u001b[0mmethod\u001b[0m\u001b[1;33m,\u001b[0m \u001b[0mtolerance\u001b[0m\u001b[1;33m=\u001b[0m\u001b[0mtolerance\u001b[0m\u001b[1;33m)\u001b[0m\u001b[1;33m\u001b[0m\u001b[1;33m\u001b[0m\u001b[0m\n\u001b[0;32m   2650\u001b[0m         \u001b[1;32mif\u001b[0m \u001b[0mindexer\u001b[0m\u001b[1;33m.\u001b[0m\u001b[0mndim\u001b[0m \u001b[1;33m>\u001b[0m \u001b[1;36m1\u001b[0m \u001b[1;32mor\u001b[0m \u001b[0mindexer\u001b[0m\u001b[1;33m.\u001b[0m\u001b[0msize\u001b[0m \u001b[1;33m>\u001b[0m \u001b[1;36m1\u001b[0m\u001b[1;33m:\u001b[0m\u001b[1;33m\u001b[0m\u001b[1;33m\u001b[0m\u001b[0m\n",
      "\u001b[1;32mpandas\\_libs\\index.pyx\u001b[0m in \u001b[0;36mpandas._libs.index.IndexEngine.get_loc\u001b[1;34m()\u001b[0m\n",
      "\u001b[1;32mpandas\\_libs\\index.pyx\u001b[0m in \u001b[0;36mpandas._libs.index.IndexEngine.get_loc\u001b[1;34m()\u001b[0m\n",
      "\u001b[1;32mpandas\\_libs\\hashtable_class_helper.pxi\u001b[0m in \u001b[0;36mpandas._libs.hashtable.PyObjectHashTable.get_item\u001b[1;34m()\u001b[0m\n",
      "\u001b[1;32mpandas\\_libs\\hashtable_class_helper.pxi\u001b[0m in \u001b[0;36mpandas._libs.hashtable.PyObjectHashTable.get_item\u001b[1;34m()\u001b[0m\n",
      "\u001b[1;31mKeyError\u001b[0m: '2021-11-15'"
     ]
    }
   ],
   "source": [
    "region_plot(regioni , '2021-11-15', save = False)"
   ]
  },
  {
   "cell_type": "markdown",
   "metadata": {},
   "source": [
    "### Save map images into a gif "
   ]
  },
  {
   "cell_type": "code",
   "execution_count": 143,
   "metadata": {
    "jupyter": {
     "source_hidden": true
    }
   },
   "outputs": [],
   "source": [
    "images = []\n",
    "for d in date_range[-7:]:\n",
    "    day = str(d.date())\n",
    "    im  = Image.open(f'./images/it_cv{day}.png')\n",
    "    images.append(im)\n",
    "    "
   ]
  },
  {
   "cell_type": "code",
   "execution_count": 145,
   "metadata": {
    "jupyter": {
     "source_hidden": true
    }
   },
   "outputs": [],
   "source": [
    "images[0].save('./images/sample.gif',\n",
    "               save_all=True, append_images=images[1:], optimize=False, duration=700, loop=1)"
   ]
  },
  {
   "cell_type": "markdown",
   "metadata": {},
   "source": [
    "## Positives / Tests"
   ]
  },
  {
   "cell_type": "code",
   "execution_count": null,
   "metadata": {},
   "outputs": [],
   "source": []
  },
  {
   "cell_type": "code",
   "execution_count": 21,
   "metadata": {},
   "outputs": [],
   "source": [
    "positivi = regioni.groupby(['data','denominazione_regione'])['nuovi_positivi'].sum().unstack()\n",
    "tamponi = regioni.groupby(['data','denominazione_regione'])['tamponi'].sum().unstack()"
   ]
  },
  {
   "cell_type": "code",
   "execution_count": 22,
   "metadata": {},
   "outputs": [],
   "source": [
    "def show_im_positivi():\n",
    "    M = tamponi.iloc[1:,:].values-tamponi.iloc[:-1,:].values\n",
    "    M = np.insert(M, 0, M[0,:], axis = 0)\n",
    "    pos_test = 100*(positivi/M)\n",
    "    pos_test.replace(to_replace= np.inf , value = 0 , inplace = True)\n",
    "    reg = pos_test.columns.values\n",
    "    labels = [str(p)[8:10]+'-'+str(p)[5:7] for p in pos_test.index.values[::30]]\n",
    "    plt.subplots(figsize = (18,5))\n",
    "    plt.yticks(ticks = np.arange(21) , labels = reg)\n",
    "    plt.title('Number of positives over Tests in %')\n",
    "    plt.xticks(ticks = [0,30,60,90,120,150,180,210,240],labels = labels )\n",
    "    plt.legend(labels = [0,50])\n",
    "\n",
    "    plt.imshow(pos_test.T ,aspect = 'auto', vmin = 0 , vmax = 50 , cmap = 'viridis')"
   ]
  },
  {
   "cell_type": "code",
   "execution_count": 23,
   "metadata": {},
   "outputs": [
    {
     "data": {
      "image/png": "[encoded data removed]",
      "text/plain": [
       "<Figure size 1296x360 with 1 Axes>"
      ]
     },
     "metadata": {
      "needs_background": "light"
     },
     "output_type": "display_data"
    }
   ],
   "source": [
    "show_im_positivi()"
   ]
  },
  {
   "cell_type": "markdown",
   "metadata": {},
   "source": [
    "# Deceised / Hospitalized for each region"
   ]
  },
  {
   "cell_type": "code",
   "execution_count": 81,
   "metadata": {},
   "outputs": [],
   "source": [
    "deceduti = regioni.groupby(['data','denominazione_regione'])['deceduti'].sum().unstack()\n",
    "hospitalized = regioni.groupby(['data','denominazione_regione'])['totale_ospedalizzati'].sum().unstack() "
   ]
  },
  {
   "cell_type": "code",
   "execution_count": 83,
   "metadata": {},
   "outputs": [],
   "source": [
    "deceduti.iloc[1:,:] = deceduti.iloc[1:,:].values - deceduti.iloc[:-1,:].values"
   ]
  },
  {
   "cell_type": "code",
   "execution_count": 91,
   "metadata": {},
   "outputs": [],
   "source": [
    "def deceased_hospitilzed(df, day = '2020-11-01' ,save = True):\n",
    "    ''' '''\n",
    "    \n",
    "    \n",
    "    df.index = pd.to_datetime(df.reset_index().data)\n",
    "    df = df[day].unstack()\n",
    "    df.name = 'dec'\n",
    "    df = italy.merge(df, on ='denominazione_regione')\n",
    "    gdf = gpd.GeoDataFrame(df, geometry = df.geometry)\n",
    "    #gdf['totale_casi per 1m abitanti'] = 1e6*gdf['nuovi_positivi'] // gdf['popolazione']\n",
    "    \n",
    "    fig, ax = plt.subplots(figsize= (12,8))\n",
    "    plt.xticks([])\n",
    "    plt.yticks([])\n",
    "    plt.title(f'Deceased over Hospitalized \\n {day}')\n",
    "    \n",
    "    gdf.plot(column = 'dec',cmap = 'Oranges',vmax = 5,vmin = 0,legend =True,ax = ax)\n",
    "    if save:\n",
    "        plt.savefig(fname = f'./images/it_cv{day}.png' ,format = 'png')"
   ]
  },
  {
   "cell_type": "markdown",
   "metadata": {},
   "source": [
    "### For every 100 hospitilized how many die on the same day?"
   ]
  },
  {
   "cell_type": "code",
   "execution_count": 94,
   "metadata": {},
   "outputs": [
    {
     "data": {
      "image/png": "[encoded data removed]",
      "text/plain": [
       "<Figure size 864x576 with 2 Axes>"
      ]
     },
     "metadata": {
      "needs_background": "light"
     },
     "output_type": "display_data"
    }
   ],
   "source": [
    "df = 100*deceduti/(hospitalized+1)\n",
    "deceased_hospitilzed(df, day = '2020-11-20' ,save = False)"
   ]
  },
  {
   "cell_type": "code",
   "execution_count": null,
   "metadata": {},
   "outputs": [],
   "source": []
  }
 ],
 "metadata": {
  "kernelspec": {
   "display_name": "Python 3",
   "language": "python",
   "name": "python3"
  },
  "language_info": {
   "codemirror_mode": {
    "name": "ipython",
    "version": 3
   },
   "file_extension": ".py",
   "mimetype": "text/x-python",
   "name": "python",
   "nbconvert_exporter": "python",
   "pygments_lexer": "ipython3",
   "version": "3.8.2"
  }
 },
 "nbformat": 4,
 "nbformat_minor": 4
}
