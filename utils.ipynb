{
 "cells": [
  {
   "cell_type": "markdown",
   "metadata": {},
   "source": [
    "# Utility Functions"
   ]
  },
  {
   "cell_type": "code",
   "execution_count": 6,
   "metadata": {},
   "outputs": [],
   "source": [
    "def create_df_regioni(days):\n",
    "    '''scrape github , download data return a dataframe'''\n",
    "    \n",
    "    df = pd.DataFrame()\n",
    "    for i in days:\n",
    "        url =  f'https://raw.githubusercontent.com/pcm-dpc/COVID-19/master/dati-regioni/dpc-covid19-ita-regioni-{i}.csv'\n",
    "  #df.append(pd.read_csv(url, encoding= 'Latin'))dpc-covid19-ita-regioni\n",
    "        df = pd.concat([df,pd.read_csv(url, encoding=\"Latin\")])\n",
    "        df.data = pd.to_datetime(df.data , yearfirst=True)\n",
    "        df = df[df['codice_regione'].map(lambda x :len(str(x)) < 3)] # notes are excluded\n",
    "    #rename regions\n",
    "        df.replace('P.A. Bolzano' , 'Bolzano')\n",
    "        df.replace('P.A. Trento'  , 'Trento' )\n",
    "        df.replace('Emilia-Romagna' , 'Emilia Romagna')\n",
    "        #df['denominazione_regione'] = df['denominazione_regione'].mask(df['denominazione_regione']=='P.A. Bolzano', 'Bolzano')\n",
    "        #df['denominazione_regione'] = df['denominazione_regione'].mask(df['denominazione_regione']=='P.A. Trento', 'Trento')\n",
    "    return df"
   ]
  },
  {
   "cell_type": "code",
   "execution_count": 2,
   "metadata": {},
   "outputs": [],
   "source": [
    "def create_regioni_shape():\n",
    "    'with trento e bolzano'\n",
    "    regioni_url = 'https://gist.githubusercontent.com/datajournalism-it/f1abb68e718b54f6a0fe/raw/23636ff76534439b52b87a67e766b11fa7373aa9/regioni-con-trento-bolzano.geojson'\n",
    "    regioni = gpd.read_file(regioni_url)\n",
    "    regioni.rename(columns={'Regione':'denominazione_regione'},inplace=True)\n",
    "    return regioni"
   ]
  },
  {
   "cell_type": "code",
   "execution_count": null,
   "metadata": {},
   "outputs": [],
   "source": []
  },
  {
   "cell_type": "markdown",
   "metadata": {},
   "source": [
    "population size of italian regions as to 2019 , source : https://it.wikipedia.org/wiki/Regioni_d%27Italia"
   ]
  },
  {
   "cell_type": "code",
   "execution_count": 3,
   "metadata": {},
   "outputs": [],
   "source": [
    "def create_popolazione():\n",
    "    '''create a Series of regional populations'''\n",
    "    \n",
    "    popolazione = \"Lombardia,Lazio,Campania,Sicilia,Veneto,Emilia Romagna,Piemonte,Puglia,Toscana,Calabria,Sardegna,Liguria,Marche,Abruzzo,Friuli Venezia Giulia,Umbria,Basilicata,Molise,Valle d'Aosta,Bolzano,Trento\".split(',')\n",
    "    nu = [10060574,5879082,5801692,4999891,4905854,4459477,4356406,4029053,3729641,1947131,1639591,1550640,1525271,1311580,1215220 ,882015,562869,305617,125666,533349,545497]\n",
    "    \n",
    "    return pd.Series(dict(zip(popolazione,nu)), name = 'popolazione' )"
   ]
  },
  {
   "cell_type": "code",
   "execution_count": null,
   "metadata": {},
   "outputs": [],
   "source": [
    "def create_italy(shapes : pd.DataFrame , popolazione : pd.Series):\n",
    "    '''merge population and regions shape'''\n",
    "    italy = shapes.merge(pd.DataFrame(popolazione).reset_index(),left_on = 'denominazione_regione' , right_on = 'index')\n",
    "    italy.drop('index',axis = 1 , inplace = True)\n",
    "    return italy"
   ]
  },
  {
   "cell_type": "code",
   "execution_count": null,
   "metadata": {},
   "outputs": [],
   "source": [
    "def update_regioni(regioni , today : str):\n",
    "    '''update up to any month in 2021'''\n",
    "    \n",
    "    #get the last day of the dataset\n",
    "    daterange = pd.date_range(start = regioni.data.iloc[-1],end = today)\n",
    "    days = []\n",
    "    \n",
    "    for x in daterange:\n",
    "        dd = '0'+str(x.day)\n",
    "        mm = '0'+str(x.month)\n",
    "        yyyy = str(x.year)\n",
    "        days.append(yyyy+mm[-2:]+dd[-2:])\n",
    "    \n",
    "    df = pd.DataFrame()\n",
    "    for i in days[1:]: # exclude the first day it is already in the dataset\n",
    "        \n",
    "        url =  'https://raw.githubusercontent.com/pcm-dpc/COVID-19/master/dati-regioni/dpc-covid19-ita-regioni-{i}.csv'.format(i)\n",
    "    #df.append(pd.read_csv(url, encoding= 'Latin'))dpc-covid19-ita-regioni\n",
    "        df = pd.concat([df,pd.read_csv(url, encoding=\"Latin\")])\n",
    "        df.data = pd.to_datetime(df.data , yearfirst=True)\n",
    "        df = df[df['codice_regione'].map(lambda x :len(str(x)) < 3)]\n",
    "    #rename regions\n",
    "        df['denominazione_regione'] = df['denominazione_regione'].mask(df['denominazione_regione']=='P.A. Bolzano', 'Trentino-Alto Adige')\n",
    "        df['denominazione_regione'] = df['denominazione_regione'].mask(df['denominazione_regione']=='P.A. Trento', 'Trentino-Alto Adige')\n",
    "    regioni = pd.concat([regioni,df],axis = 0)    \n",
    "    return regioni"
   ]
  }
 ],
 "metadata": {
  "kernelspec": {
   "display_name": "Python 3",
   "language": "python",
   "name": "python3"
  },
  "language_info": {
   "codemirror_mode": {
    "name": "ipython",
    "version": 3
   },
   "file_extension": ".py",
   "mimetype": "text/x-python",
   "name": "python",
   "nbconvert_exporter": "python",
   "pygments_lexer": "ipython3",
   "version": "3.8.2"
  }
 },
 "nbformat": 4,
 "nbformat_minor": 4
}
